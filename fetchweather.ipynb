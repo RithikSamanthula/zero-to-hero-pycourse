{
 "cells": [
  {
   "cell_type": "code",
   "execution_count": 1,
   "metadata": {
    "collapsed": false,
    "pycharm": {
     "name": "#%%\n"
    }
   },
   "outputs": [
    {
     "name": "stdout",
     "output_type": "stream",
     "text": [
      " Temperature (in kelvin unit) = 302.2\n",
      " atmospheric pressure (in hPa unit) = 1017\n",
      " humidity (in percentage) = 29\n",
      " description = clear sky\n"
     ]
    }
   ],
   "source": [
    "import requests, json\n",
    "\n",
    "# Enter your API key here\n",
    "api_key = \"28329d118558160b46dbf4e49bae7e58\"\n",
    "\n",
    "# base_url variable to store url\n",
    "base_url = \"http://api.openweathermap.org/data/2.5/weather?\"\n",
    "\n",
    "# Give city name\n",
    "city_name = input(\"Enter city name : \")\n",
    "\n",
    "# complete_url variable to store\n",
    "# complete url address\n",
    "complete_url = base_url + \"appid=\" + api_key + \"&q=\" + city_name\n",
    "\n",
    "# get method of requests module\n",
    "# return response object\n",
    "response = requests.get(complete_url)\n",
    "\n",
    "# json method of response object\n",
    "# convert json format data into\n",
    "# python format data\n",
    "x = response.json()\n",
    "\n",
    "# Now x contains list of nested dictionaries\n",
    "# Check the value of \"cod\" key is equal to\n",
    "# \"404\", means city is found otherwise,\n",
    "# city is not found\n",
    "if x[\"cod\"] != \"404\":\n",
    "\n",
    "    # store the value of \"main\"\n",
    "    # key in variable y\n",
    "    y = x[\"main\"]\n",
    "\n",
    "    # store the value corresponding\n",
    "    # to the \"temp\" key of y\n",
    "    current_temperature = y[\"temp\"]\n",
    "\n",
    "    # store the value corresponding\n",
    "    # to the \"pressure\" key of y\n",
    "    current_pressure = y[\"pressure\"]\n",
    "\n",
    "    # store the value corresponding\n",
    "    # to the \"humidity\" key of y\n",
    "    current_humidity = y[\"humidity\"]\n",
    "\n",
    "    # store the value of \"weather\"\n",
    "    # key in variable z\n",
    "    z = x[\"weather\"]\n",
    "\n",
    "    # store the value corresponding\n",
    "    # to the \"description\" key at\n",
    "    # the 0th index of z\n",
    "    weather_description = z[0][\"description\"]\n",
    "\n",
    "    # print following values\n",
    "    print(\" Temperature (in kelvin unit) = \" +\n",
    "          str(current_temperature) +\n",
    "          \"\\n atmospheric pressure (in hPa unit) = \" +\n",
    "          str(current_pressure) +\n",
    "          \"\\n humidity (in percentage) = \" +\n",
    "          str(current_humidity) +\n",
    "          \"\\n description = \" +\n",
    "          str(weather_description))\n",
    "\n",
    "else:\n",
    "\n",
    "    print(\" City Not Found \")"
   ]
  },
  {
   "cell_type": "code",
   "execution_count": null,
   "metadata": {
    "collapsed": false,
    "pycharm": {
     "name": "#%%\n"
    }
   },
   "outputs": [],
   "source": []
  }
 ],
 "metadata": {
  "kernelspec": {
   "display_name": "Python 3.10.5 64-bit",
   "language": "python",
   "name": "python3"
  },
  "language_info": {
   "codemirror_mode": {
    "name": "ipython",
    "version": 3
   },
   "file_extension": ".py",
   "mimetype": "text/x-python",
   "name": "python",
   "nbconvert_exporter": "python",
   "pygments_lexer": "ipython3",
   "version": "3.10.5"
  },
  "vscode": {
   "interpreter": {
    "hash": "949777d72b0d2535278d3dc13498b2535136f6dfe0678499012e853ee9abcab1"
   }
  }
 },
 "nbformat": 4,
 "nbformat_minor": 0
}
