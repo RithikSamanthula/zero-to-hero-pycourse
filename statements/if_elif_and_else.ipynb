{
 "cells": [
  {
   "cell_type": "code",
   "execution_count": 3,
   "outputs": [
    {
     "name": "stdout",
     "output_type": "stream",
     "text": [
      "FEED ME!\n"
     ]
    }
   ],
   "source": [
    "hungry = True\n",
    "\n",
    "if hungry:\n",
    "    print('FEED ME!')"
   ],
   "metadata": {
    "collapsed": false,
    "pycharm": {
     "name": "#%%\n"
    }
   }
  },
  {
   "cell_type": "code",
   "execution_count": 4,
   "outputs": [],
   "source": [
    "hungry = False\n",
    "\n",
    "if hungry:\n",
    "    print('FEED ME!')"
   ],
   "metadata": {
    "collapsed": false,
    "pycharm": {
     "name": "#%%\n"
    }
   }
  },
  {
   "cell_type": "code",
   "execution_count": 5,
   "outputs": [
    {
     "name": "stdout",
     "output_type": "stream",
     "text": [
      "I dont wanna eatttt\n"
     ]
    }
   ],
   "source": [
    "hungry = False\n",
    "\n",
    "if hungry:\n",
    "    print('FEED ME!')\n",
    "else:\n",
    "    print('I dont wanna eatttt')"
   ],
   "metadata": {
    "collapsed": false,
    "pycharm": {
     "name": "#%%\n"
    }
   }
  },
  {
   "cell_type": "code",
   "execution_count": 11,
   "outputs": [
    {
     "name": "stdout",
     "output_type": "stream",
     "text": [
      "Dolla' bills, Dolla bills'\n"
     ]
    }
   ],
   "source": [
    "loc = 'Bank'\n",
    "\n",
    "if loc == 'School':\n",
    "    print('#SchoolIsCool')\n",
    "elif loc == 'Bank':\n",
    "    print (\"Dolla' bills, Dolla bills'\")\n",
    "elif loc == 'Store':\n",
    "    print(\"Gon' buy some groceries\")\n",
    "else:\n",
    "    print(\"I. Don't. Know.\")"
   ],
   "metadata": {
    "collapsed": false,
    "pycharm": {
     "name": "#%%\n"
    }
   }
  },
  {
   "cell_type": "code",
   "execution_count": 12,
   "outputs": [
    {
     "name": "stdout",
     "output_type": "stream",
     "text": [
      "I. Don't. Know.\n"
     ]
    }
   ],
   "source": [
    "loc = 'Game Shop'\n",
    "\n",
    "if loc == 'School':\n",
    "    print('#SchoolIsCool')\n",
    "elif loc == 'Bank':\n",
    "    print (\"Dolla' bills, Dolla bills'\")\n",
    "elif loc == 'Store':\n",
    "    print(\"Gon' buy some groceries\")\n",
    "else:\n",
    "    print(\"I. Don't. Know.\")"
   ],
   "metadata": {
    "collapsed": false,
    "pycharm": {
     "name": "#%%\n"
    }
   }
  },
  {
   "cell_type": "code",
   "execution_count": 16,
   "outputs": [
    {
     "name": "stdout",
     "output_type": "stream",
     "text": [
      "Britt! We can only eat tacos on taco tuesday!!\n"
     ]
    }
   ],
   "source": [
    "food_item = \"Tacos\"\n",
    "\n",
    "if food_item == \"Pizza\":\n",
    "    print(\"Oooo, yummy pizza!\")\n",
    "elif food_item == \"Ramen\":\n",
    "    print(\"Mmz would love some Ramen.\")\n",
    "elif food_item == \"Apple\":\n",
    "    print(\"Gotta eat them apples\")\n",
    "elif food_item == 'Tacos':\n",
    "    print(\"Britt! We can only eat tacos on taco tuesday!!\")\n",
    "else:\n",
    "    print(\"Watchu wanna eat?\")"
   ],
   "metadata": {
    "collapsed": false,
    "pycharm": {
     "name": "#%%\n"
    }
   }
  },
  {
   "cell_type": "code",
   "execution_count": 17,
   "outputs": [
    {
     "name": "stdout",
     "output_type": "stream",
     "text": [
      "Watchu wanna eat?\n"
     ]
    }
   ],
   "source": [
    "food_item = \"Hamburger\"\n",
    "\n",
    "if food_item == \"Pizza\":\n",
    "    print(\"Oooo, yummy pizza!\")\n",
    "elif food_item == \"Ramen\":\n",
    "    print(\"Mmz would love some Ramen.\")\n",
    "elif food_item == \"Apple\":\n",
    "    print(\"Gotta eat them apples\")\n",
    "elif food_item == 'Tacos':\n",
    "    print(\"Britt! We can only eat tacos on taco tuesday!!\")\n",
    "else:\n",
    "    print(\"Watchu wanna eat?\")"
   ],
   "metadata": {
    "collapsed": false,
    "pycharm": {
     "name": "#%%\n"
    }
   }
  },
  {
   "cell_type": "code",
   "execution_count": null,
   "outputs": [],
   "source": [],
   "metadata": {
    "collapsed": false,
    "pycharm": {
     "name": "#%%\n"
    }
   }
  }
 ],
 "metadata": {
  "kernelspec": {
   "display_name": "Python 3",
   "language": "python",
   "name": "python3"
  },
  "language_info": {
   "codemirror_mode": {
    "name": "ipython",
    "version": 2
   },
   "file_extension": ".py",
   "mimetype": "text/x-python",
   "name": "python",
   "nbconvert_exporter": "python",
   "pygments_lexer": "ipython2",
   "version": "2.7.6"
  }
 },
 "nbformat": 4,
 "nbformat_minor": 0
}