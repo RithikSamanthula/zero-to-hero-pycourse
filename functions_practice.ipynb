{
 "cells": [
  {
   "cell_type": "code",
   "execution_count": 159,
   "metadata": {
    "collapsed": false,
    "pycharm": {
     "name": "#%%\n"
    }
   },
   "outputs": [],
   "source": [
    "def Encrypt(*args):\n",
    "    global zebra\n",
    "\n",
    "    zebra = ''\n",
    "\n",
    "    if not args:\n",
    "            return(\"Please pass in a parameter\")\n",
    "    else:\n",
    "        zebra = args[0][::-1]\n",
    "        print(f'Success! Your message was encrypted! View it with the View() method. Decrypt it with the Decrypt() method')\n",
    "\n",
    "\n",
    "def View():\n",
    "    print(zebra)\n",
    "\n",
    "def Decrypt():\n",
    "    zebra2 = zebra[::-1]\n",
    "    print(zebra2)"
   ]
  },
  {
   "cell_type": "code",
   "execution_count": 161,
   "metadata": {
    "collapsed": false,
    "pycharm": {
     "name": "#%%\n"
    }
   },
   "outputs": [
    {
     "name": "stdout",
     "output_type": "stream",
     "text": [
      "Success! Your message was encrypted! View it with the View() method. Decrypt it with the Decrypt() method\n"
     ]
    }
   ],
   "source": [
    "Encrypt(\"Yay\")"
   ]
  },
  {
   "cell_type": "code",
   "execution_count": 162,
   "metadata": {
    "collapsed": false,
    "pycharm": {
     "name": "#%%\n"
    }
   },
   "outputs": [
    {
     "name": "stdout",
     "output_type": "stream",
     "text": [
      "yaY\n"
     ]
    }
   ],
   "source": [
    "View()"
   ]
  },
  {
   "cell_type": "code",
   "execution_count": 163,
   "metadata": {
    "collapsed": false,
    "pycharm": {
     "name": "#%%\n"
    }
   },
   "outputs": [
    {
     "name": "stdout",
     "output_type": "stream",
     "text": [
      "Yay\n"
     ]
    }
   ],
   "source": [
    "Decrypt()"
   ]
  },
  {
   "cell_type": "code",
   "execution_count": 1,
   "metadata": {
    "collapsed": false,
    "pycharm": {
     "name": "#%%\n"
    }
   },
   "outputs": [],
   "source": [
    "def farenheit_to_celcius(temp_in_farenheit):\n",
    "\n",
    "    print(f\"{(temp_in_farenheit - 32) * 5/9}°C\")"
   ]
  },
  {
   "cell_type": "code",
   "execution_count": 2,
   "metadata": {},
   "outputs": [],
   "source": [
    "def celcius_to_farenheit(temp_in_celcius):\n",
    "\n",
    "    print(f\"{(temp_in_celcius * 9/5) + 32}\")"
   ]
  },
  {
   "cell_type": "code",
   "execution_count": 7,
   "metadata": {},
   "outputs": [
    {
     "name": "stdout",
     "output_type": "stream",
     "text": [
      "-6.666666666666667°C\n"
     ]
    }
   ],
   "source": [
    "farenheit_to_celcius(20)"
   ]
  },
  {
   "cell_type": "code",
   "execution_count": 8,
   "metadata": {},
   "outputs": [
    {
     "name": "stdout",
     "output_type": "stream",
     "text": [
      "32.0\n"
     ]
    }
   ],
   "source": [
    "celcius_to_farenheit(0)"
   ]
  },
  {
   "cell_type": "code",
   "execution_count": null,
   "metadata": {},
   "outputs": [],
   "source": []
  }
 ],
 "metadata": {
  "interpreter": {
   "hash": "7e1998ff7f8aa20ada591c520b972326324e5ea05489af9e422744c7c09f6dad"
  },
  "kernelspec": {
   "display_name": "Python 3.10.5 64-bit",
   "language": "python",
   "name": "python3"
  },
  "language_info": {
   "codemirror_mode": {
    "name": "ipython",
    "version": 3
   },
   "file_extension": ".py",
   "mimetype": "text/x-python",
   "name": "python",
   "nbconvert_exporter": "python",
   "pygments_lexer": "ipython3",
   "version": "3.10.5"
  }
 },
 "nbformat": 4,
 "nbformat_minor": 0
}
