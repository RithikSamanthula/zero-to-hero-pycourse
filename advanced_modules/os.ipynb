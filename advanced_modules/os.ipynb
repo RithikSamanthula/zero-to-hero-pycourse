{
 "cells": [
  {
   "cell_type": "code",
   "execution_count": 13,
   "metadata": {},
   "outputs": [
    {
     "data": {
      "text/plain": [
       "'/Users/riky/python_projects/advanced_modules'"
      ]
     },
     "execution_count": 13,
     "metadata": {},
     "output_type": "execute_result"
    }
   ],
   "source": [
    "pwd"
   ]
  },
  {
   "cell_type": "code",
   "execution_count": 14,
   "metadata": {},
   "outputs": [],
   "source": [
    "f = open('example.txt','w+')\n",
    "f.write('This is a test string')\n",
    "f.close()"
   ]
  },
  {
   "cell_type": "code",
   "execution_count": 17,
   "metadata": {},
   "outputs": [],
   "source": [
    "def create(text):\n",
    "    \n",
    "        f = open('mytextfile.txt','w+')\n",
    "        f.write(text)\n",
    "        f.close()"
   ]
  },
  {
   "cell_type": "code",
   "execution_count": 23,
   "metadata": {},
   "outputs": [],
   "source": [
    "create('yessir')"
   ]
  },
  {
   "cell_type": "code",
   "execution_count": 24,
   "metadata": {},
   "outputs": [],
   "source": [
    "import os"
   ]
  },
  {
   "cell_type": "code",
   "execution_count": 25,
   "metadata": {},
   "outputs": [
    {
     "data": {
      "text/plain": [
       "'/Users/riky/python_projects/advanced_modules'"
      ]
     },
     "execution_count": 25,
     "metadata": {},
     "output_type": "execute_result"
    }
   ],
   "source": [
    "os.getcwd()"
   ]
  },
  {
   "cell_type": "code",
   "execution_count": 26,
   "metadata": {},
   "outputs": [
    {
     "data": {
      "text/plain": [
       "['os.ipynb', 'collections.ipynb', 'example.txt', 'mytextfile.txt']"
      ]
     },
     "execution_count": 26,
     "metadata": {},
     "output_type": "execute_result"
    }
   ],
   "source": [
    "os.listdir()"
   ]
  },
  {
   "cell_type": "code",
   "execution_count": 27,
   "metadata": {},
   "outputs": [],
   "source": [
    "import shutil"
   ]
  },
  {
   "cell_type": "code",
   "execution_count": 30,
   "metadata": {},
   "outputs": [
    {
     "data": {
      "text/plain": [
       "'/Users/riky/python_projects/advanced_modules/sample/example.txt'"
      ]
     },
     "execution_count": 30,
     "metadata": {},
     "output_type": "execute_result"
    }
   ],
   "source": [
    "shutil.move('example.txt','/Users/riky/python_projects/advanced_modules/sample')"
   ]
  },
  {
   "cell_type": "code",
   "execution_count": 31,
   "metadata": {},
   "outputs": [
    {
     "data": {
      "text/plain": [
       "['shopping_cart.ipynb',\n",
       " '.DS_Store',\n",
       " 'decorators',\n",
       " 'experiment.ipynb',\n",
       " 'modules_and_packages',\n",
       " 'functions_practice.ipynb',\n",
       " 'milestone-2',\n",
       " 'functionspractice2.ipynb',\n",
       " 'comparision_operators',\n",
       " 'statements',\n",
       " 'practice.ipynb',\n",
       " 'objects_and_data_structure',\n",
       " 'methods_and_funcs',\n",
       " '.ipynb_checkpoints',\n",
       " 'generators',\n",
       " 'starter.ipynb',\n",
       " '.vscode',\n",
       " 'errors_and_exceptions',\n",
       " 'object_oriented',\n",
       " 'milestone-1',\n",
       " 'advanced_modules',\n",
       " 'fetchweather.ipynb',\n",
       " '.idea']"
      ]
     },
     "execution_count": 31,
     "metadata": {},
     "output_type": "execute_result"
    }
   ],
   "source": [
    "os.listdir('/Users/riky/python_projects')"
   ]
  },
  {
   "cell_type": "code",
   "execution_count": 35,
   "metadata": {},
   "outputs": [
    {
     "data": {
      "text/plain": [
       "'/Users/riky/python_projects/advanced_modules'"
      ]
     },
     "execution_count": 35,
     "metadata": {},
     "output_type": "execute_result"
    }
   ],
   "source": [
    "os.getcwd()"
   ]
  },
  {
   "cell_type": "code",
   "execution_count": 36,
   "metadata": {},
   "outputs": [],
   "source": [
    "file_path = '/Users/riky/python_projects/advanced_modules/sample'"
   ]
  },
  {
   "cell_type": "code",
   "execution_count": 41,
   "metadata": {},
   "outputs": [
    {
     "name": "stdout",
     "output_type": "stream",
     "text": [
      "Currently looking at /Users/riky/python_projects/advanced_modules/sample\n",
      "\n",
      "\n",
      "The subfolders are: \n",
      "Subfolder: folder2\n",
      "Subfolder: folder3\n",
      "Subfolder: folder1\n",
      "\n",
      "\n",
      "The files are: \n",
      "File: empty.txt\n",
      "File: anotherempty.txt\n",
      "File: example.txt\n",
      "\n",
      "\n",
      "Currently looking at /Users/riky/python_projects/advanced_modules/sample/folder2\n",
      "\n",
      "\n",
      "The subfolders are: \n",
      "\n",
      "\n",
      "The files are: \n",
      "File: supercool.txt\n",
      "File: random.txt\n",
      "File: cool.txt\n",
      "\n",
      "\n",
      "Currently looking at /Users/riky/python_projects/advanced_modules/sample/folder3\n",
      "\n",
      "\n",
      "The subfolders are: \n",
      "\n",
      "\n",
      "The files are: \n",
      "File: extremelyawesome.txt\n",
      "File: awesome.txt\n",
      "File: superawesome.txt\n",
      "\n",
      "\n",
      "Currently looking at /Users/riky/python_projects/advanced_modules/sample/folder1\n",
      "\n",
      "\n",
      "The subfolders are: \n",
      "\n",
      "\n",
      "The files are: \n",
      "File: cow.txt\n",
      "File: duck.txt\n",
      "File: dog.txt\n",
      "\n",
      "\n"
     ]
    }
   ],
   "source": [
    "for folder, sub_folders, files in os.walk(file_path):\n",
    "\n",
    "    print(f\"Currently looking at {folder}\")\n",
    "    print('\\n')\n",
    "    print('The subfolders are: ')\n",
    "    for sub_fold in sub_folders:\n",
    "        print(f'Subfolder: {sub_fold}')\n",
    "\n",
    "    print('\\n')\n",
    "\n",
    "    print(f\"The files are: \")\n",
    "\n",
    "    for f in files:\n",
    "        print(f\"File: {f}\")\n",
    "    print('\\n')"
   ]
  },
  {
   "cell_type": "code",
   "execution_count": null,
   "metadata": {},
   "outputs": [],
   "source": []
  }
 ],
 "metadata": {
  "interpreter": {
   "hash": "7e1998ff7f8aa20ada591c520b972326324e5ea05489af9e422744c7c09f6dad"
  },
  "kernelspec": {
   "display_name": "Python 3.10.5 64-bit",
   "language": "python",
   "name": "python3"
  },
  "language_info": {
   "codemirror_mode": {
    "name": "ipython",
    "version": 3
   },
   "file_extension": ".py",
   "mimetype": "text/x-python",
   "name": "python",
   "nbconvert_exporter": "python",
   "pygments_lexer": "ipython3",
   "version": "3.10.5"
  },
  "orig_nbformat": 4
 },
 "nbformat": 4,
 "nbformat_minor": 2
}
