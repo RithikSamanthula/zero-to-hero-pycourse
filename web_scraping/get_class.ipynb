{
 "cells": [
  {
   "cell_type": "code",
   "execution_count": 4,
   "metadata": {},
   "outputs": [],
   "source": [
    "import requests\n",
    "import bs4"
   ]
  },
  {
   "cell_type": "code",
   "execution_count": 5,
   "metadata": {},
   "outputs": [],
   "source": [
    "res = requests.get('https://en.wikipedia.org/wiki/Python_(programming_language)')"
   ]
  },
  {
   "cell_type": "code",
   "execution_count": 6,
   "metadata": {},
   "outputs": [],
   "source": [
    "soup = bs4.BeautifulSoup(res.text,\"lxml\")"
   ]
  },
  {
   "cell_type": "code",
   "execution_count": 8,
   "metadata": {},
   "outputs": [],
   "source": [
    "# soup"
   ]
  },
  {
   "cell_type": "code",
   "execution_count": 11,
   "metadata": {},
   "outputs": [
    {
     "data": {
      "text/plain": [
       "bs4.element.Tag"
      ]
     },
     "execution_count": 11,
     "metadata": {},
     "output_type": "execute_result"
    }
   ],
   "source": [
    "type(soup.select('.toctext')[0])"
   ]
  },
  {
   "cell_type": "code",
   "execution_count": 13,
   "metadata": {},
   "outputs": [
    {
     "data": {
      "text/plain": [
       "[<span class=\"toctext\">History</span>,\n",
       " <span class=\"toctext\">Design philosophy and features</span>,\n",
       " <span class=\"toctext\">Syntax and semantics</span>,\n",
       " <span class=\"toctext\">Indentation</span>,\n",
       " <span class=\"toctext\">Statements and control flow</span>,\n",
       " <span class=\"toctext\">Expressions</span>,\n",
       " <span class=\"toctext\">Methods</span>,\n",
       " <span class=\"toctext\">Typing</span>,\n",
       " <span class=\"toctext\">Arithmetic operations</span>,\n",
       " <span class=\"toctext\">Programming examples</span>,\n",
       " <span class=\"toctext\">Libraries</span>,\n",
       " <span class=\"toctext\">Development environments</span>,\n",
       " <span class=\"toctext\">Implementations</span>,\n",
       " <span class=\"toctext\">Reference implementation</span>,\n",
       " <span class=\"toctext\">Other implementations</span>,\n",
       " <span class=\"toctext\">Unsupported implementations</span>,\n",
       " <span class=\"toctext\">Cross-compilers to other languages</span>,\n",
       " <span class=\"toctext\">Performance</span>,\n",
       " <span class=\"toctext\">Development</span>,\n",
       " <span class=\"toctext\">API documentation generators</span>,\n",
       " <span class=\"toctext\">Naming</span>,\n",
       " <span class=\"toctext\">Popularity</span>,\n",
       " <span class=\"toctext\">Uses</span>,\n",
       " <span class=\"toctext\">Languages influenced by Python</span>,\n",
       " <span class=\"toctext\">See also</span>,\n",
       " <span class=\"toctext\">References</span>,\n",
       " <span class=\"toctext\">Sources</span>,\n",
       " <span class=\"toctext\">Further reading</span>,\n",
       " <span class=\"toctext\">External links</span>]"
      ]
     },
     "execution_count": 13,
     "metadata": {},
     "output_type": "execute_result"
    }
   ],
   "source": [
    "soup.select('.toctext')"
   ]
  },
  {
   "cell_type": "code",
   "execution_count": 15,
   "metadata": {},
   "outputs": [],
   "source": [
    "tenth_item = soup.select('.toctext')[10]"
   ]
  },
  {
   "cell_type": "code",
   "execution_count": 16,
   "metadata": {},
   "outputs": [
    {
     "data": {
      "text/plain": [
       "'Libraries'"
      ]
     },
     "execution_count": 16,
     "metadata": {},
     "output_type": "execute_result"
    }
   ],
   "source": [
    "tenth_item.text"
   ]
  },
  {
   "cell_type": "code",
   "execution_count": 18,
   "metadata": {},
   "outputs": [
    {
     "name": "stdout",
     "output_type": "stream",
     "text": [
      "History\n",
      "Design philosophy and features\n",
      "Syntax and semantics\n",
      "Indentation\n",
      "Statements and control flow\n",
      "Expressions\n",
      "Methods\n",
      "Typing\n",
      "Arithmetic operations\n",
      "Programming examples\n",
      "Libraries\n",
      "Development environments\n",
      "Implementations\n",
      "Reference implementation\n",
      "Other implementations\n",
      "Unsupported implementations\n",
      "Cross-compilers to other languages\n",
      "Performance\n",
      "Development\n",
      "API documentation generators\n",
      "Naming\n",
      "Popularity\n",
      "Uses\n",
      "Languages influenced by Python\n",
      "See also\n",
      "References\n",
      "Sources\n",
      "Further reading\n",
      "External links\n"
     ]
    }
   ],
   "source": [
    "for item in soup.select('.toctext'):\n",
    "    print(item.text)"
   ]
  },
  {
   "cell_type": "code",
   "execution_count": null,
   "metadata": {},
   "outputs": [],
   "source": []
  }
 ],
 "metadata": {
  "kernelspec": {
   "display_name": "Python 3.10.5 64-bit",
   "language": "python",
   "name": "python3"
  },
  "language_info": {
   "codemirror_mode": {
    "name": "ipython",
    "version": 3
   },
   "file_extension": ".py",
   "mimetype": "text/x-python",
   "name": "python",
   "nbconvert_exporter": "python",
   "pygments_lexer": "ipython3",
   "version": "3.10.5"
  },
  "orig_nbformat": 4,
  "vscode": {
   "interpreter": {
    "hash": "44a9cdcbdccbf05a880e90d2e6fe72470baab4d1b82472d890be0596ed887a6b"
   }
  }
 },
 "nbformat": 4,
 "nbformat_minor": 2
}
