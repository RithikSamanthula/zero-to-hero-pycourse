{
 "cells": [
  {
   "cell_type": "code",
   "execution_count": 1,
   "metadata": {},
   "outputs": [],
   "source": [
    "import requests\n",
    "import bs4"
   ]
  },
  {
   "cell_type": "code",
   "execution_count": 2,
   "metadata": {},
   "outputs": [],
   "source": [
    "res = requests.get(\"https://en.wikipedia.org/wiki/Stephen_Hawking\")"
   ]
  },
  {
   "cell_type": "code",
   "execution_count": 3,
   "metadata": {},
   "outputs": [],
   "source": [
    "soup = bs4.BeautifulSoup(res.text,'lxml')"
   ]
  },
  {
   "cell_type": "code",
   "execution_count": 4,
   "metadata": {},
   "outputs": [
    {
     "data": {
      "text/plain": [
       "[<img alt=\"Page semi-protected\" data-file-height=\"512\" data-file-width=\"512\" decoding=\"async\" height=\"20\" src=\"//upload.wikimedia.org/wikipedia/en/thumb/1/1b/Semi-protection-shackle.svg/20px-Semi-protection-shackle.svg.png\" srcset=\"//upload.wikimedia.org/wikipedia/en/thumb/1/1b/Semi-protection-shackle.svg/30px-Semi-protection-shackle.svg.png 1.5x, //upload.wikimedia.org/wikipedia/en/thumb/1/1b/Semi-protection-shackle.svg/40px-Semi-protection-shackle.svg.png 2x\" width=\"20\"/>,\n",
       " <img alt=\"Black-and-white photograph of Stephen Hawking at NASA's StarChild Learning Center\" data-file-height=\"359\" data-file-width=\"250\" decoding=\"async\" height=\"316\" src=\"//upload.wikimedia.org/wikipedia/commons/thumb/e/eb/Stephen_Hawking.StarChild.jpg/220px-Stephen_Hawking.StarChild.jpg\" srcset=\"//upload.wikimedia.org/wikipedia/commons/e/eb/Stephen_Hawking.StarChild.jpg 1.5x\" width=\"220\"/>,\n",
       " <img alt=\"Hawkingsig.svg\" data-file-height=\"243\" data-file-width=\"384\" decoding=\"async\" height=\"95\" src=\"//upload.wikimedia.org/wikipedia/commons/thumb/c/c9/Hawkingsig.svg/150px-Hawkingsig.svg.png\" srcset=\"//upload.wikimedia.org/wikipedia/commons/thumb/c/c9/Hawkingsig.svg/225px-Hawkingsig.svg.png 1.5x, //upload.wikimedia.org/wikipedia/commons/thumb/c/c9/Hawkingsig.svg/300px-Hawkingsig.svg.png 2x\" width=\"150\"/>,\n",
       " <img alt=\"Full-sky image derived from Planck spacecraft data\" data-file-height=\"1080\" data-file-width=\"2160\" decoding=\"async\" height=\"110\" src=\"//upload.wikimedia.org/wikipedia/commons/thumb/0/0b/Planck_satellite_cmb.jpg/220px-Planck_satellite_cmb.jpg\" srcset=\"//upload.wikimedia.org/wikipedia/commons/thumb/0/0b/Planck_satellite_cmb.jpg/330px-Planck_satellite_cmb.jpg 1.5x, //upload.wikimedia.org/wikipedia/commons/thumb/0/0b/Planck_satellite_cmb.jpg/440px-Planck_satellite_cmb.jpg 2x\" width=\"220\"/>,\n",
       " <img alt=\"\" class=\"noviewer\" data-file-height=\"185\" data-file-width=\"180\" decoding=\"async\" height=\"16\" src=\"//upload.wikimedia.org/wikipedia/en/thumb/9/96/Symbol_category_class.svg/16px-Symbol_category_class.svg.png\" srcset=\"//upload.wikimedia.org/wikipedia/en/thumb/9/96/Symbol_category_class.svg/23px-Symbol_category_class.svg.png 1.5x, //upload.wikimedia.org/wikipedia/en/thumb/9/96/Symbol_category_class.svg/31px-Symbol_category_class.svg.png 2x\" title=\"Category\" width=\"16\"/>,\n",
       " <img alt=\"\" class=\"noviewer\" data-file-height=\"3864\" data-file-width=\"3864\" decoding=\"async\" height=\"16\" src=\"//upload.wikimedia.org/wikipedia/commons/thumb/0/00/Crab_Nebula.jpg/16px-Crab_Nebula.jpg\" srcset=\"//upload.wikimedia.org/wikipedia/commons/thumb/0/00/Crab_Nebula.jpg/24px-Crab_Nebula.jpg 1.5x, //upload.wikimedia.org/wikipedia/commons/thumb/0/00/Crab_Nebula.jpg/32px-Crab_Nebula.jpg 2x\" width=\"16\"/>,\n",
       " <img alt=\"\" class=\"thumbimage\" data-file-height=\"279\" data-file-width=\"194\" decoding=\"async\" height=\"279\" src=\"//upload.wikimedia.org/wikipedia/commons/7/72/Stephen_Hawking_-1966_%28cropped%29.jpg\" width=\"194\"/>,\n",
       " <img alt=\"\" class=\"thumbimage\" data-file-height=\"1604\" data-file-width=\"1040\" decoding=\"async\" height=\"262\" src=\"//upload.wikimedia.org/wikipedia/commons/thumb/f/f0/Stephen_Hawking_-_San_Francisco_ALS_convention.jpg/170px-Stephen_Hawking_-_San_Francisco_ALS_convention.jpg\" srcset=\"//upload.wikimedia.org/wikipedia/commons/thumb/f/f0/Stephen_Hawking_-_San_Francisco_ALS_convention.jpg/255px-Stephen_Hawking_-_San_Francisco_ALS_convention.jpg 1.5x, //upload.wikimedia.org/wikipedia/commons/thumb/f/f0/Stephen_Hawking_-_San_Francisco_ALS_convention.jpg/340px-Stephen_Hawking_-_San_Francisco_ALS_convention.jpg 2x\" width=\"170\"/>,\n",
       " <img alt=\"Hawking outside, in his wheelchair, talking to David Gross and Edward Witten\" class=\"thumbimage\" data-file-height=\"593\" data-file-width=\"800\" decoding=\"async\" height=\"185\" src=\"//upload.wikimedia.org/wikipedia/commons/thumb/8/81/Gross_Witten_Hawking_TIFR_2001.jpg/250px-Gross_Witten_Hawking_TIFR_2001.jpg\" srcset=\"//upload.wikimedia.org/wikipedia/commons/thumb/8/81/Gross_Witten_Hawking_TIFR_2001.jpg/375px-Gross_Witten_Hawking_TIFR_2001.jpg 1.5x, //upload.wikimedia.org/wikipedia/commons/thumb/8/81/Gross_Witten_Hawking_TIFR_2001.jpg/500px-Gross_Witten_Hawking_TIFR_2001.jpg 2x\" width=\"250\"/>,\n",
       " <img alt=\"Stephen Hawking sitting in his wheelchair inside\" class=\"thumbimage\" data-file-height=\"2495\" data-file-width=\"1606\" decoding=\"async\" height=\"264\" src=\"//upload.wikimedia.org/wikipedia/commons/thumb/3/31/Stephen_Hawking_050506.jpg/170px-Stephen_Hawking_050506.jpg\" srcset=\"//upload.wikimedia.org/wikipedia/commons/thumb/3/31/Stephen_Hawking_050506.jpg/255px-Stephen_Hawking_050506.jpg 1.5x, //upload.wikimedia.org/wikipedia/commons/thumb/3/31/Stephen_Hawking_050506.jpg/340px-Stephen_Hawking_050506.jpg 2x\" width=\"170\"/>,\n",
       " <img alt=\"\" class=\"thumbimage\" data-file-height=\"2172\" data-file-width=\"2816\" decoding=\"async\" height=\"170\" src=\"//upload.wikimedia.org/wikipedia/commons/thumb/6/61/Weston_Library_Opening_by_John_Cairns_20.3.15-139.jpg/220px-Weston_Library_Opening_by_John_Cairns_20.3.15-139.jpg\" srcset=\"//upload.wikimedia.org/wikipedia/commons/thumb/6/61/Weston_Library_Opening_by_John_Cairns_20.3.15-139.jpg/330px-Weston_Library_Opening_by_John_Cairns_20.3.15-139.jpg 1.5x, //upload.wikimedia.org/wikipedia/commons/thumb/6/61/Weston_Library_Opening_by_John_Cairns_20.3.15-139.jpg/440px-Weston_Library_Opening_by_John_Cairns_20.3.15-139.jpg 2x\" width=\"220\"/>,\n",
       " <img alt=\"\" class=\"thumbimage\" data-file-height=\"3264\" data-file-width=\"3264\" decoding=\"async\" height=\"220\" src=\"//upload.wikimedia.org/wikipedia/commons/thumb/9/95/Stephen_Hawking_in_Stockholm%2C_2015.jpg/220px-Stephen_Hawking_in_Stockholm%2C_2015.jpg\" srcset=\"//upload.wikimedia.org/wikipedia/commons/thumb/9/95/Stephen_Hawking_in_Stockholm%2C_2015.jpg/330px-Stephen_Hawking_in_Stockholm%2C_2015.jpg 1.5x, //upload.wikimedia.org/wikipedia/commons/thumb/9/95/Stephen_Hawking_in_Stockholm%2C_2015.jpg/440px-Stephen_Hawking_in_Stockholm%2C_2015.jpg 2x\" width=\"220\"/>,\n",
       " <img alt=\"Hawking, without his wheelchair, floating weightless in the air inside a plane\" class=\"thumbimage\" data-file-height=\"2660\" data-file-width=\"3990\" decoding=\"async\" height=\"167\" src=\"//upload.wikimedia.org/wikipedia/commons/thumb/0/08/Physicist_Stephen_Hawking_in_Zero_Gravity_NASA.jpg/250px-Physicist_Stephen_Hawking_in_Zero_Gravity_NASA.jpg\" srcset=\"//upload.wikimedia.org/wikipedia/commons/thumb/0/08/Physicist_Stephen_Hawking_in_Zero_Gravity_NASA.jpg/375px-Physicist_Stephen_Hawking_in_Zero_Gravity_NASA.jpg 1.5x, //upload.wikimedia.org/wikipedia/commons/thumb/0/08/Physicist_Stephen_Hawking_in_Zero_Gravity_NASA.jpg/500px-Physicist_Stephen_Hawking_in_Zero_Gravity_NASA.jpg 2x\" width=\"250\"/>,\n",
       " <img alt=\"\" class=\"thumbimage\" data-file-height=\"3072\" data-file-width=\"4096\" decoding=\"async\" height=\"165\" src=\"//upload.wikimedia.org/wikipedia/commons/thumb/8/87/Stephen_Hawking%27s_resting_place_at_Westminster_Abbey.jpg/220px-Stephen_Hawking%27s_resting_place_at_Westminster_Abbey.jpg\" srcset=\"//upload.wikimedia.org/wikipedia/commons/thumb/8/87/Stephen_Hawking%27s_resting_place_at_Westminster_Abbey.jpg/330px-Stephen_Hawking%27s_resting_place_at_Westminster_Abbey.jpg 1.5x, //upload.wikimedia.org/wikipedia/commons/thumb/8/87/Stephen_Hawking%27s_resting_place_at_Westminster_Abbey.jpg/440px-Stephen_Hawking%27s_resting_place_at_Westminster_Abbey.jpg 2x\" width=\"220\"/>,\n",
       " <img alt=\"\" class=\"thumbimage\" data-file-height=\"2165\" data-file-width=\"4081\" decoding=\"async\" height=\"117\" src=\"//upload.wikimedia.org/wikipedia/commons/thumb/7/76/Hawking_Office_Blackboard.jpg/220px-Hawking_Office_Blackboard.jpg\" srcset=\"//upload.wikimedia.org/wikipedia/commons/thumb/7/76/Hawking_Office_Blackboard.jpg/330px-Hawking_Office_Blackboard.jpg 1.5x, //upload.wikimedia.org/wikipedia/commons/thumb/7/76/Hawking_Office_Blackboard.jpg/440px-Hawking_Office_Blackboard.jpg 2x\" width=\"220\"/>,\n",
       " <img alt=\"Photograph of Barack Obama talking to Stephen Hawking in the White House\" class=\"thumbimage\" data-file-height=\"2333\" data-file-width=\"1876\" decoding=\"async\" height=\"211\" src=\"//upload.wikimedia.org/wikipedia/commons/thumb/9/94/Barack_Obama_speaks_to_Stephen_Hawking_%28cropped%29.jpg/170px-Barack_Obama_speaks_to_Stephen_Hawking_%28cropped%29.jpg\" srcset=\"//upload.wikimedia.org/wikipedia/commons/thumb/9/94/Barack_Obama_speaks_to_Stephen_Hawking_%28cropped%29.jpg/255px-Barack_Obama_speaks_to_Stephen_Hawking_%28cropped%29.jpg 1.5x, //upload.wikimedia.org/wikipedia/commons/thumb/9/94/Barack_Obama_speaks_to_Stephen_Hawking_%28cropped%29.jpg/340px-Barack_Obama_speaks_to_Stephen_Hawking_%28cropped%29.jpg 2x\" width=\"170\"/>,\n",
       " <img alt=\"\" class=\"thumbimage\" data-file-height=\"1944\" data-file-width=\"2592\" decoding=\"async\" height=\"165\" src=\"//upload.wikimedia.org/wikipedia/commons/thumb/5/5a/Monty_Python_Live_02-07-14_12_55_10_%2814415565317%29.jpg/220px-Monty_Python_Live_02-07-14_12_55_10_%2814415565317%29.jpg\" srcset=\"//upload.wikimedia.org/wikipedia/commons/thumb/5/5a/Monty_Python_Live_02-07-14_12_55_10_%2814415565317%29.jpg/330px-Monty_Python_Live_02-07-14_12_55_10_%2814415565317%29.jpg 1.5x, //upload.wikimedia.org/wikipedia/commons/thumb/5/5a/Monty_Python_Live_02-07-14_12_55_10_%2814415565317%29.jpg/440px-Monty_Python_Live_02-07-14_12_55_10_%2814415565317%29.jpg 2x\" width=\"220\"/>,\n",
       " <img alt=\"Photograph of Hawking and his daughter Lucy on-stage at a presentation\" class=\"thumbimage\" data-file-height=\"2376\" data-file-width=\"3460\" decoding=\"async\" height=\"172\" src=\"//upload.wikimedia.org/wikipedia/commons/thumb/2/27/Stephen_hawking_and_lucy_hawking_nasa_2008.jpg/250px-Stephen_hawking_and_lucy_hawking_nasa_2008.jpg\" srcset=\"//upload.wikimedia.org/wikipedia/commons/thumb/2/27/Stephen_hawking_and_lucy_hawking_nasa_2008.jpg/375px-Stephen_hawking_and_lucy_hawking_nasa_2008.jpg 1.5x, //upload.wikimedia.org/wikipedia/commons/thumb/2/27/Stephen_hawking_and_lucy_hawking_nasa_2008.jpg/500px-Stephen_hawking_and_lucy_hawking_nasa_2008.jpg 2x\" width=\"250\"/>,\n",
       " <img alt=\"{\\displaystyle T={\\frac {\\hbar c^{3}}{8\\pi GMk}},}\" aria-hidden=\"true\" class=\"mwe-math-fallback-image-inline\" src=\"https://wikimedia.org/api/rest_v1/media/math/render/svg/8f8738cbbe565c644dfed6b3e453b944fdf134df\" style=\"vertical-align: -2.005ex; width:14.192ex; height:5.843ex;\"/>,\n",
       " <img alt=\"T\" aria-hidden=\"true\" class=\"mwe-math-fallback-image-inline\" src=\"https://wikimedia.org/api/rest_v1/media/math/render/svg/ec7200acd984a1d3a3d7dc455e262fbe54f7f6e0\" style=\"vertical-align: -0.338ex; width:1.636ex; height:2.176ex;\"/>,\n",
       " <img alt=\"\\hbar \" aria-hidden=\"true\" class=\"mwe-math-fallback-image-inline\" src=\"https://wikimedia.org/api/rest_v1/media/math/render/svg/de68de3a92517953436c93b5a76461d49160cc41\" style=\"vertical-align: -0.338ex; width:1.306ex; height:2.176ex;\"/>,\n",
       " <img alt=\"2\\pi \" aria-hidden=\"true\" class=\"mwe-math-fallback-image-inline\" src=\"https://wikimedia.org/api/rest_v1/media/math/render/svg/73efd1f6493490b058097060a572606d2c550a06\" style=\"vertical-align: -0.338ex; width:2.494ex; height:2.176ex;\"/>,\n",
       " <img alt=\"c\" aria-hidden=\"true\" class=\"mwe-math-fallback-image-inline\" src=\"https://wikimedia.org/api/rest_v1/media/math/render/svg/86a67b81c2de995bd608d5b2df50cd8cd7d92455\" style=\"vertical-align: -0.338ex; width:1.007ex; height:1.676ex;\"/>,\n",
       " <img alt=\"G\" aria-hidden=\"true\" class=\"mwe-math-fallback-image-inline\" src=\"https://wikimedia.org/api/rest_v1/media/math/render/svg/f5f3c8921a3b352de45446a6789b104458c9f90b\" style=\"vertical-align: -0.338ex; width:1.827ex; height:2.176ex;\"/>,\n",
       " <img alt=\"M\" aria-hidden=\"true\" class=\"mwe-math-fallback-image-inline\" src=\"https://wikimedia.org/api/rest_v1/media/math/render/svg/f82cade9898ced02fdd08712e5f0c0151758a0dd\" style=\"vertical-align: -0.338ex; width:2.442ex; height:2.176ex;\"/>,\n",
       " <img alt=\"k\" aria-hidden=\"true\" class=\"mwe-math-fallback-image-inline\" src=\"https://wikimedia.org/api/rest_v1/media/math/render/svg/c3c9a2c7b599b37105512c5d570edc034056dd40\" style=\"vertical-align: -0.338ex; width:1.211ex; height:2.176ex;\"/>,\n",
       " <img alt=\"S\" aria-hidden=\"true\" class=\"mwe-math-fallback-image-inline\" src=\"https://wikimedia.org/api/rest_v1/media/math/render/svg/4611d85173cd3b508e67077d4a1252c9c05abca2\" style=\"vertical-align: -0.338ex; width:1.499ex; height:2.176ex;\"/>,\n",
       " <img alt=\"{\\displaystyle T=Mc^{2}/2S,}\" aria-hidden=\"true\" class=\"mwe-math-fallback-image-inline\" src=\"https://wikimedia.org/api/rest_v1/media/math/render/svg/1df0f52b758651f6c4c9a928470321778aadc040\" style=\"vertical-align: -0.838ex; width:13.709ex; height:3.176ex;\"/>,\n",
       " <img alt=\"{\\displaystyle Mc^{2}}\" aria-hidden=\"true\" class=\"mwe-math-fallback-image-inline\" src=\"https://wikimedia.org/api/rest_v1/media/math/render/svg/7f1e81d5aacf191d5515d34e8c9872e0348cc539\" style=\"vertical-align: -0.338ex; width:4.503ex; height:2.676ex;\"/>,\n",
       " <img alt=\"{\\displaystyle S={\\frac {4\\pi GM^{2}k}{\\hbar c}}.}\" aria-hidden=\"true\" class=\"mwe-math-fallback-image-inline\" src=\"https://wikimedia.org/api/rest_v1/media/math/render/svg/66476fa38886d38b42423d5bf71e77f5ae4700f0\" style=\"vertical-align: -2.005ex; width:15.166ex; height:5.843ex;\"/>,\n",
       " <img alt=\"{\\displaystyle r={\\frac {2GM}{c^{2}}},}\" aria-hidden=\"true\" class=\"mwe-math-fallback-image-inline\" src=\"https://wikimedia.org/api/rest_v1/media/math/render/svg/6657e1ffb078b8f55a3120e9d6dd856765e9cc1f\" style=\"vertical-align: -2.171ex; width:11.061ex; height:5.676ex;\"/>,\n",
       " <img alt=\"{\\displaystyle A=4\\pi r^{2},}\" aria-hidden=\"true\" class=\"mwe-math-fallback-image-inline\" src=\"https://wikimedia.org/api/rest_v1/media/math/render/svg/ba1cbdbb8a22c7db3b3f01dad4ea19f8dfcd502b\" style=\"vertical-align: -0.671ex; width:10.086ex; height:3.009ex;\"/>,\n",
       " <img alt=\"S\" aria-hidden=\"true\" class=\"mwe-math-fallback-image-inline\" src=\"https://wikimedia.org/api/rest_v1/media/math/render/svg/4611d85173cd3b508e67077d4a1252c9c05abca2\" style=\"vertical-align: -0.338ex; width:1.499ex; height:2.176ex;\"/>,\n",
       " <img alt=\"{\\displaystyle S_{\\text{BH}}={\\frac {kc^{3}}{4\\hbar G}}A,}\" aria-hidden=\"true\" class=\"mwe-math-fallback-image-inline\" src=\"https://wikimedia.org/api/rest_v1/media/math/render/svg/18ab61342a5df6da0a528acf9c4a2036b6fbfd4f\" style=\"vertical-align: -2.005ex; width:14.673ex; height:5.843ex;\"/>,\n",
       " <img alt=\"{\\displaystyle {\\frac {S_{\\text{BH}}}{k}}={\\frac {1}{4}}{\\frac {A}{A_{\\text{P}}}},}\" aria-hidden=\"true\" class=\"mwe-math-fallback-image-inline\" src=\"https://wikimedia.org/api/rest_v1/media/math/render/svg/2c48a2e1614a2eb40e6e5aeb4ca119fd2140f4d7\" style=\"vertical-align: -2.338ex; width:14.564ex; height:5.843ex;\"/>,\n",
       " <img alt=\"{\\displaystyle A_{\\text{P}}=\\hbar G/c^{3}}\" aria-hidden=\"true\" class=\"mwe-math-fallback-image-inline\" src=\"https://wikimedia.org/api/rest_v1/media/math/render/svg/ac06457a0368343b53d60008680aedf7a1c5bf48\" style=\"vertical-align: -0.838ex; width:12.55ex; height:3.176ex;\"/>,\n",
       " <img alt=\"k\" aria-hidden=\"true\" class=\"mwe-math-fallback-image-inline\" src=\"https://wikimedia.org/api/rest_v1/media/math/render/svg/c3c9a2c7b599b37105512c5d570edc034056dd40\" style=\"vertical-align: -0.338ex; width:1.211ex; height:2.176ex;\"/>,\n",
       " <img alt=\"{\\displaystyle A_{\\text{P}}}\" aria-hidden=\"true\" class=\"mwe-math-fallback-image-inline\" src=\"https://wikimedia.org/api/rest_v1/media/math/render/svg/130f657fb47d3f3cfdac0dfa95f321d09cf9b13b\" style=\"vertical-align: -0.671ex; width:3.095ex; height:2.509ex;\"/>,\n",
       " <img alt=\"{\\displaystyle S_{\\text{BH}}={\\frac {A}{4}}.}\" aria-hidden=\"true\" class=\"mwe-math-fallback-image-inline\" src=\"https://wikimedia.org/api/rest_v1/media/math/render/svg/2104709467b60773575921f501c43f0ff019dd56\" style=\"vertical-align: -1.838ex; width:10.378ex; height:5.343ex;\"/>,\n",
       " <img alt=\"1/4\" aria-hidden=\"true\" class=\"mwe-math-fallback-image-inline\" src=\"https://wikimedia.org/api/rest_v1/media/math/render/svg/4d3cf1ef33695c3d98cb09f01e5700f927ce928c\" style=\"vertical-align: -0.838ex; width:3.487ex; height:2.843ex;\"/>,\n",
       " <img alt=\"\" data-file-height=\"48\" data-file-width=\"48\" decoding=\"async\" height=\"40\" src=\"//upload.wikimedia.org/wikipedia/en/thumb/f/f2/Edit-clear.svg/40px-Edit-clear.svg.png\" srcset=\"//upload.wikimedia.org/wikipedia/en/thumb/f/f2/Edit-clear.svg/60px-Edit-clear.svg.png 1.5x, //upload.wikimedia.org/wikipedia/en/thumb/f/f2/Edit-clear.svg/80px-Edit-clear.svg.png 2x\" width=\"40\"/>,\n",
       " <img alt=\"\" data-file-height=\"391\" data-file-width=\"391\" decoding=\"async\" height=\"27\" src=\"//upload.wikimedia.org/wikipedia/en/thumb/0/06/Wiktionary-logo-v2.svg/27px-Wiktionary-logo-v2.svg.png\" srcset=\"//upload.wikimedia.org/wikipedia/en/thumb/0/06/Wiktionary-logo-v2.svg/41px-Wiktionary-logo-v2.svg.png 1.5x, //upload.wikimedia.org/wikipedia/en/thumb/0/06/Wiktionary-logo-v2.svg/54px-Wiktionary-logo-v2.svg.png 2x\" style=\"vertical-align: middle\" width=\"27\"/>,\n",
       " <img alt=\"\" data-file-height=\"1376\" data-file-width=\"1024\" decoding=\"async\" height=\"27\" src=\"//upload.wikimedia.org/wikipedia/en/thumb/4/4a/Commons-logo.svg/20px-Commons-logo.svg.png\" srcset=\"//upload.wikimedia.org/wikipedia/en/thumb/4/4a/Commons-logo.svg/30px-Commons-logo.svg.png 1.5x, //upload.wikimedia.org/wikipedia/en/thumb/4/4a/Commons-logo.svg/40px-Commons-logo.svg.png 2x\" style=\"vertical-align: middle\" width=\"20\"/>,\n",
       " <img alt=\"\" data-file-height=\"415\" data-file-width=\"759\" decoding=\"async\" height=\"15\" src=\"//upload.wikimedia.org/wikipedia/commons/thumb/2/24/Wikinews-logo.svg/27px-Wikinews-logo.svg.png\" srcset=\"//upload.wikimedia.org/wikipedia/commons/thumb/2/24/Wikinews-logo.svg/41px-Wikinews-logo.svg.png 1.5x, //upload.wikimedia.org/wikipedia/commons/thumb/2/24/Wikinews-logo.svg/54px-Wikinews-logo.svg.png 2x\" style=\"vertical-align: middle\" width=\"27\"/>,\n",
       " <img alt=\"\" data-file-height=\"355\" data-file-width=\"300\" decoding=\"async\" height=\"27\" src=\"//upload.wikimedia.org/wikipedia/commons/thumb/f/fa/Wikiquote-logo.svg/23px-Wikiquote-logo.svg.png\" srcset=\"//upload.wikimedia.org/wikipedia/commons/thumb/f/fa/Wikiquote-logo.svg/35px-Wikiquote-logo.svg.png 1.5x, //upload.wikimedia.org/wikipedia/commons/thumb/f/fa/Wikiquote-logo.svg/46px-Wikiquote-logo.svg.png 2x\" style=\"vertical-align: middle\" width=\"23\"/>,\n",
       " <img alt=\"\" data-file-height=\"300\" data-file-width=\"300\" decoding=\"async\" height=\"27\" src=\"//upload.wikimedia.org/wikipedia/commons/thumb/f/fa/Wikibooks-logo.svg/27px-Wikibooks-logo.svg.png\" srcset=\"//upload.wikimedia.org/wikipedia/commons/thumb/f/fa/Wikibooks-logo.svg/41px-Wikibooks-logo.svg.png 1.5x, //upload.wikimedia.org/wikipedia/commons/thumb/f/fa/Wikibooks-logo.svg/54px-Wikibooks-logo.svg.png 2x\" style=\"vertical-align: middle\" width=\"27\"/>,\n",
       " <img alt=\"Edit this at Wikidata\" class=\"noprint\" data-file-height=\"20\" data-file-width=\"20\" decoding=\"async\" height=\"10\" src=\"//upload.wikimedia.org/wikipedia/en/thumb/8/8a/OOjs_UI_icon_edit-ltr-progressive.svg/10px-OOjs_UI_icon_edit-ltr-progressive.svg.png\" srcset=\"//upload.wikimedia.org/wikipedia/en/thumb/8/8a/OOjs_UI_icon_edit-ltr-progressive.svg/15px-OOjs_UI_icon_edit-ltr-progressive.svg.png 1.5x, //upload.wikimedia.org/wikipedia/en/thumb/8/8a/OOjs_UI_icon_edit-ltr-progressive.svg/20px-OOjs_UI_icon_edit-ltr-progressive.svg.png 2x\" style=\"vertical-align: text-top\" width=\"10\"/>,\n",
       " <img alt=\"Edit this at Wikidata\" class=\"noprint\" data-file-height=\"20\" data-file-width=\"20\" decoding=\"async\" height=\"10\" src=\"//upload.wikimedia.org/wikipedia/en/thumb/8/8a/OOjs_UI_icon_edit-ltr-progressive.svg/10px-OOjs_UI_icon_edit-ltr-progressive.svg.png\" srcset=\"//upload.wikimedia.org/wikipedia/en/thumb/8/8a/OOjs_UI_icon_edit-ltr-progressive.svg/15px-OOjs_UI_icon_edit-ltr-progressive.svg.png 1.5x, //upload.wikimedia.org/wikipedia/en/thumb/8/8a/OOjs_UI_icon_edit-ltr-progressive.svg/20px-OOjs_UI_icon_edit-ltr-progressive.svg.png 2x\" style=\"vertical-align: text-top\" width=\"10\"/>,\n",
       " <img alt=\"Edit this at Wikidata\" class=\"noprint\" data-file-height=\"20\" data-file-width=\"20\" decoding=\"async\" height=\"10\" src=\"//upload.wikimedia.org/wikipedia/en/thumb/8/8a/OOjs_UI_icon_edit-ltr-progressive.svg/10px-OOjs_UI_icon_edit-ltr-progressive.svg.png\" srcset=\"//upload.wikimedia.org/wikipedia/en/thumb/8/8a/OOjs_UI_icon_edit-ltr-progressive.svg/15px-OOjs_UI_icon_edit-ltr-progressive.svg.png 1.5x, //upload.wikimedia.org/wikipedia/en/thumb/8/8a/OOjs_UI_icon_edit-ltr-progressive.svg/20px-OOjs_UI_icon_edit-ltr-progressive.svg.png 2x\" style=\"vertical-align: text-top\" width=\"10\"/>,\n",
       " <img alt=\"Edit this at Wikidata\" class=\"noprint\" data-file-height=\"20\" data-file-width=\"20\" decoding=\"async\" height=\"10\" src=\"//upload.wikimedia.org/wikipedia/en/thumb/8/8a/OOjs_UI_icon_edit-ltr-progressive.svg/10px-OOjs_UI_icon_edit-ltr-progressive.svg.png\" srcset=\"//upload.wikimedia.org/wikipedia/en/thumb/8/8a/OOjs_UI_icon_edit-ltr-progressive.svg/15px-OOjs_UI_icon_edit-ltr-progressive.svg.png 1.5x, //upload.wikimedia.org/wikipedia/en/thumb/8/8a/OOjs_UI_icon_edit-ltr-progressive.svg/20px-OOjs_UI_icon_edit-ltr-progressive.svg.png 2x\" style=\"vertical-align: text-top\" width=\"10\"/>,\n",
       " <img alt=\"Princess of Asturias Foundation Emblem.svg\" data-file-height=\"1296\" data-file-width=\"952\" decoding=\"async\" height=\"68\" src=\"//upload.wikimedia.org/wikipedia/commons/thumb/7/70/Princess_of_Asturias_Foundation_Emblem.svg/50px-Princess_of_Asturias_Foundation_Emblem.svg.png\" srcset=\"//upload.wikimedia.org/wikipedia/commons/thumb/7/70/Princess_of_Asturias_Foundation_Emblem.svg/75px-Princess_of_Asturias_Foundation_Emblem.svg.png 1.5x, //upload.wikimedia.org/wikipedia/commons/thumb/7/70/Princess_of_Asturias_Foundation_Emblem.svg/100px-Princess_of_Asturias_Foundation_Emblem.svg.png 2x\" width=\"50\"/>,\n",
       " <img alt=\"\" class=\"noviewer\" data-file-height=\"185\" data-file-width=\"180\" decoding=\"async\" height=\"16\" src=\"//upload.wikimedia.org/wikipedia/en/thumb/9/96/Symbol_category_class.svg/16px-Symbol_category_class.svg.png\" srcset=\"//upload.wikimedia.org/wikipedia/en/thumb/9/96/Symbol_category_class.svg/23px-Symbol_category_class.svg.png 1.5x, //upload.wikimedia.org/wikipedia/en/thumb/9/96/Symbol_category_class.svg/31px-Symbol_category_class.svg.png 2x\" title=\"Category\" width=\"16\"/>,\n",
       " <img alt=\"flag\" class=\"thumbborder\" data-file-height=\"600\" data-file-width=\"1200\" decoding=\"async\" height=\"11\" src=\"//upload.wikimedia.org/wikipedia/en/thumb/a/ae/Flag_of_the_United_Kingdom.svg/21px-Flag_of_the_United_Kingdom.svg.png\" srcset=\"//upload.wikimedia.org/wikipedia/en/thumb/a/ae/Flag_of_the_United_Kingdom.svg/32px-Flag_of_the_United_Kingdom.svg.png 1.5x, //upload.wikimedia.org/wikipedia/en/thumb/a/ae/Flag_of_the_United_Kingdom.svg/42px-Flag_of_the_United_Kingdom.svg.png 2x\" width=\"21\"/>,\n",
       " <img alt=\"\" data-file-height=\"1944\" data-file-width=\"1911\" decoding=\"async\" height=\"19\" src=\"//upload.wikimedia.org/wikipedia/en/thumb/6/69/P_vip.svg/19px-P_vip.svg.png\" srcset=\"//upload.wikimedia.org/wikipedia/en/thumb/6/69/P_vip.svg/28px-P_vip.svg.png 1.5x, //upload.wikimedia.org/wikipedia/en/thumb/6/69/P_vip.svg/37px-P_vip.svg.png 2x\" width=\"19\"/>,\n",
       " <img alt=\"icon\" data-file-height=\"600\" data-file-width=\"530\" decoding=\"async\" height=\"19\" src=\"//upload.wikimedia.org/wikipedia/commons/thumb/6/6f/Stylised_atom_with_three_Bohr_model_orbits_and_stylised_nucleus.svg/17px-Stylised_atom_with_three_Bohr_model_orbits_and_stylised_nucleus.svg.png\" srcset=\"//upload.wikimedia.org/wikipedia/commons/thumb/6/6f/Stylised_atom_with_three_Bohr_model_orbits_and_stylised_nucleus.svg/26px-Stylised_atom_with_three_Bohr_model_orbits_and_stylised_nucleus.svg.png 1.5x, //upload.wikimedia.org/wikipedia/commons/thumb/6/6f/Stylised_atom_with_three_Bohr_model_orbits_and_stylised_nucleus.svg/34px-Stylised_atom_with_three_Bohr_model_orbits_and_stylised_nucleus.svg.png 2x\" width=\"17\"/>,\n",
       " <img alt=\"\" data-file-height=\"3864\" data-file-width=\"3864\" decoding=\"async\" height=\"19\" src=\"//upload.wikimedia.org/wikipedia/commons/thumb/0/00/Crab_Nebula.jpg/19px-Crab_Nebula.jpg\" srcset=\"//upload.wikimedia.org/wikipedia/commons/thumb/0/00/Crab_Nebula.jpg/29px-Crab_Nebula.jpg 1.5x, //upload.wikimedia.org/wikipedia/commons/thumb/0/00/Crab_Nebula.jpg/38px-Crab_Nebula.jpg 2x\" width=\"19\"/>,\n",
       " <img alt=\"\" data-file-height=\"128\" data-file-width=\"128\" decoding=\"async\" height=\"19\" src=\"//upload.wikimedia.org/wikipedia/commons/thumb/d/d6/RocketSunIcon.svg/19px-RocketSunIcon.svg.png\" srcset=\"//upload.wikimedia.org/wikipedia/commons/thumb/d/d6/RocketSunIcon.svg/29px-RocketSunIcon.svg.png 1.5x, //upload.wikimedia.org/wikipedia/commons/thumb/d/d6/RocketSunIcon.svg/38px-RocketSunIcon.svg.png 2x\" width=\"19\"/>,\n",
       " <img alt=\"\" data-file-height=\"2400\" data-file-width=\"3000\" decoding=\"async\" height=\"17\" src=\"//upload.wikimedia.org/wikipedia/commons/thumb/5/5c/Earth-moon.jpg/21px-Earth-moon.jpg\" srcset=\"//upload.wikimedia.org/wikipedia/commons/thumb/5/5c/Earth-moon.jpg/32px-Earth-moon.jpg 1.5x, //upload.wikimedia.org/wikipedia/commons/thumb/5/5c/Earth-moon.jpg/42px-Earth-moon.jpg 2x\" width=\"21\"/>,\n",
       " <img alt=\"icon\" data-file-height=\"207\" data-file-width=\"180\" decoding=\"async\" height=\"19\" src=\"//upload.wikimedia.org/wikipedia/commons/thumb/5/5f/He1523a.jpg/16px-He1523a.jpg\" srcset=\"//upload.wikimedia.org/wikipedia/commons/thumb/5/5f/He1523a.jpg/25px-He1523a.jpg 1.5x, //upload.wikimedia.org/wikipedia/commons/thumb/5/5f/He1523a.jpg/33px-He1523a.jpg 2x\" width=\"16\"/>,\n",
       " <img alt=\"icon\" data-file-height=\"128\" data-file-width=\"128\" decoding=\"async\" height=\"19\" src=\"//upload.wikimedia.org/wikipedia/commons/thumb/a/a5/Nuvola_apps_bookcase.svg/19px-Nuvola_apps_bookcase.svg.png\" srcset=\"//upload.wikimedia.org/wikipedia/commons/thumb/a/a5/Nuvola_apps_bookcase.svg/29px-Nuvola_apps_bookcase.svg.png 1.5x, //upload.wikimedia.org/wikipedia/commons/thumb/a/a5/Nuvola_apps_bookcase.svg/38px-Nuvola_apps_bookcase.svg.png 2x\" width=\"19\"/>,\n",
       " <img alt=\"\" data-file-height=\"48\" data-file-width=\"48\" decoding=\"async\" height=\"19\" src=\"//upload.wikimedia.org/wikipedia/en/thumb/e/e7/Video-x-generic.svg/19px-Video-x-generic.svg.png\" srcset=\"//upload.wikimedia.org/wikipedia/en/thumb/e/e7/Video-x-generic.svg/29px-Video-x-generic.svg.png 1.5x, //upload.wikimedia.org/wikipedia/en/thumb/e/e7/Video-x-generic.svg/38px-Video-x-generic.svg.png 2x\" width=\"19\"/>,\n",
       " <img alt=\"icon\" data-file-height=\"128\" data-file-width=\"128\" decoding=\"async\" height=\"19\" src=\"//upload.wikimedia.org/wikipedia/commons/thumb/7/76/Diploma_icon.png/19px-Diploma_icon.png\" srcset=\"//upload.wikimedia.org/wikipedia/commons/thumb/7/76/Diploma_icon.png/29px-Diploma_icon.png 1.5x, //upload.wikimedia.org/wikipedia/commons/thumb/7/76/Diploma_icon.png/38px-Diploma_icon.png 2x\" width=\"19\"/>,\n",
       " <img alt=\"icon\" data-file-height=\"128\" data-file-width=\"128\" decoding=\"async\" height=\"19\" src=\"//upload.wikimedia.org/wikipedia/commons/thumb/8/8b/Nuvola_apps_kalzium.svg/19px-Nuvola_apps_kalzium.svg.png\" srcset=\"//upload.wikimedia.org/wikipedia/commons/thumb/8/8b/Nuvola_apps_kalzium.svg/29px-Nuvola_apps_kalzium.svg.png 1.5x, //upload.wikimedia.org/wikipedia/commons/thumb/8/8b/Nuvola_apps_kalzium.svg/38px-Nuvola_apps_kalzium.svg.png 2x\" width=\"19\"/>,\n",
       " <img alt=\"Edit this at Wikidata\" class=\"noprint\" data-file-height=\"20\" data-file-width=\"20\" decoding=\"async\" height=\"10\" src=\"//upload.wikimedia.org/wikipedia/en/thumb/8/8a/OOjs_UI_icon_edit-ltr-progressive.svg/10px-OOjs_UI_icon_edit-ltr-progressive.svg.png\" srcset=\"//upload.wikimedia.org/wikipedia/en/thumb/8/8a/OOjs_UI_icon_edit-ltr-progressive.svg/15px-OOjs_UI_icon_edit-ltr-progressive.svg.png 1.5x, //upload.wikimedia.org/wikipedia/en/thumb/8/8a/OOjs_UI_icon_edit-ltr-progressive.svg/20px-OOjs_UI_icon_edit-ltr-progressive.svg.png 2x\" style=\"vertical-align: text-top\" width=\"10\"/>,\n",
       " <img alt=\"\" height=\"1\" src=\"//en.wikipedia.org/wiki/Special:CentralAutoLogin/start?type=1x1\" style=\"border: none; position: absolute;\" title=\"\" width=\"1\"/>,\n",
       " <img alt=\"Wikimedia Foundation\" height=\"31\" loading=\"lazy\" src=\"/static/images/footer/wikimedia-button.png\" srcset=\"/static/images/footer/wikimedia-button-1.5x.png 1.5x, /static/images/footer/wikimedia-button-2x.png 2x\" width=\"88\"/>,\n",
       " <img alt=\"Powered by MediaWiki\" height=\"31\" loading=\"lazy\" src=\"/static/images/footer/poweredby_mediawiki_88x31.png\" srcset=\"/static/images/footer/poweredby_mediawiki_132x47.png 1.5x, /static/images/footer/poweredby_mediawiki_176x62.png 2x\" width=\"88\"/>]"
      ]
     },
     "execution_count": 4,
     "metadata": {},
     "output_type": "execute_result"
    }
   ],
   "source": [
    "soup.select('img')"
   ]
  },
  {
   "cell_type": "code",
   "execution_count": 5,
   "metadata": {},
   "outputs": [
    {
     "data": {
      "text/plain": [
       "[<a class=\"image\" href=\"/wiki/File:Stephen_Hawking.StarChild.jpg\"><img alt=\"Black-and-white photograph of Stephen Hawking at NASA's StarChild Learning Center\" data-file-height=\"359\" data-file-width=\"250\" decoding=\"async\" height=\"316\" src=\"//upload.wikimedia.org/wikipedia/commons/thumb/e/eb/Stephen_Hawking.StarChild.jpg/220px-Stephen_Hawking.StarChild.jpg\" srcset=\"//upload.wikimedia.org/wikipedia/commons/e/eb/Stephen_Hawking.StarChild.jpg 1.5x\" width=\"220\"/></a>,\n",
       " <a class=\"image\" href=\"/wiki/File:Hawkingsig.svg\"><img alt=\"Hawkingsig.svg\" data-file-height=\"243\" data-file-width=\"384\" decoding=\"async\" height=\"95\" src=\"//upload.wikimedia.org/wikipedia/commons/thumb/c/c9/Hawkingsig.svg/150px-Hawkingsig.svg.png\" srcset=\"//upload.wikimedia.org/wikipedia/commons/thumb/c/c9/Hawkingsig.svg/225px-Hawkingsig.svg.png 1.5x, //upload.wikimedia.org/wikipedia/commons/thumb/c/c9/Hawkingsig.svg/300px-Hawkingsig.svg.png 2x\" width=\"150\"/></a>,\n",
       " <a class=\"image\" href=\"/wiki/File:Planck_satellite_cmb.jpg\"><img alt=\"Full-sky image derived from Planck spacecraft data\" data-file-height=\"1080\" data-file-width=\"2160\" decoding=\"async\" height=\"110\" src=\"//upload.wikimedia.org/wikipedia/commons/thumb/0/0b/Planck_satellite_cmb.jpg/220px-Planck_satellite_cmb.jpg\" srcset=\"//upload.wikimedia.org/wikipedia/commons/thumb/0/0b/Planck_satellite_cmb.jpg/330px-Planck_satellite_cmb.jpg 1.5x, //upload.wikimedia.org/wikipedia/commons/thumb/0/0b/Planck_satellite_cmb.jpg/440px-Planck_satellite_cmb.jpg 2x\" width=\"220\"/></a>,\n",
       " <a class=\"image\" href=\"/wiki/File:Stephen_Hawking_-1966_(cropped).jpg\"><img alt=\"\" class=\"thumbimage\" data-file-height=\"279\" data-file-width=\"194\" decoding=\"async\" height=\"279\" src=\"//upload.wikimedia.org/wikipedia/commons/7/72/Stephen_Hawking_-1966_%28cropped%29.jpg\" width=\"194\"/></a>,\n",
       " <a class=\"image\" href=\"/wiki/File:Stephen_Hawking_-_San_Francisco_ALS_convention.jpg\"><img alt=\"\" class=\"thumbimage\" data-file-height=\"1604\" data-file-width=\"1040\" decoding=\"async\" height=\"262\" src=\"//upload.wikimedia.org/wikipedia/commons/thumb/f/f0/Stephen_Hawking_-_San_Francisco_ALS_convention.jpg/170px-Stephen_Hawking_-_San_Francisco_ALS_convention.jpg\" srcset=\"//upload.wikimedia.org/wikipedia/commons/thumb/f/f0/Stephen_Hawking_-_San_Francisco_ALS_convention.jpg/255px-Stephen_Hawking_-_San_Francisco_ALS_convention.jpg 1.5x, //upload.wikimedia.org/wikipedia/commons/thumb/f/f0/Stephen_Hawking_-_San_Francisco_ALS_convention.jpg/340px-Stephen_Hawking_-_San_Francisco_ALS_convention.jpg 2x\" width=\"170\"/></a>,\n",
       " <a class=\"image\" href=\"/wiki/File:Gross_Witten_Hawking_TIFR_2001.jpg\"><img alt=\"Hawking outside, in his wheelchair, talking to David Gross and Edward Witten\" class=\"thumbimage\" data-file-height=\"593\" data-file-width=\"800\" decoding=\"async\" height=\"185\" src=\"//upload.wikimedia.org/wikipedia/commons/thumb/8/81/Gross_Witten_Hawking_TIFR_2001.jpg/250px-Gross_Witten_Hawking_TIFR_2001.jpg\" srcset=\"//upload.wikimedia.org/wikipedia/commons/thumb/8/81/Gross_Witten_Hawking_TIFR_2001.jpg/375px-Gross_Witten_Hawking_TIFR_2001.jpg 1.5x, //upload.wikimedia.org/wikipedia/commons/thumb/8/81/Gross_Witten_Hawking_TIFR_2001.jpg/500px-Gross_Witten_Hawking_TIFR_2001.jpg 2x\" width=\"250\"/></a>,\n",
       " <a class=\"image\" href=\"/wiki/File:Stephen_Hawking_050506.jpg\"><img alt=\"Stephen Hawking sitting in his wheelchair inside\" class=\"thumbimage\" data-file-height=\"2495\" data-file-width=\"1606\" decoding=\"async\" height=\"264\" src=\"//upload.wikimedia.org/wikipedia/commons/thumb/3/31/Stephen_Hawking_050506.jpg/170px-Stephen_Hawking_050506.jpg\" srcset=\"//upload.wikimedia.org/wikipedia/commons/thumb/3/31/Stephen_Hawking_050506.jpg/255px-Stephen_Hawking_050506.jpg 1.5x, //upload.wikimedia.org/wikipedia/commons/thumb/3/31/Stephen_Hawking_050506.jpg/340px-Stephen_Hawking_050506.jpg 2x\" width=\"170\"/></a>,\n",
       " <a class=\"image\" href=\"/wiki/File:Weston_Library_Opening_by_John_Cairns_20.3.15-139.jpg\"><img alt=\"\" class=\"thumbimage\" data-file-height=\"2172\" data-file-width=\"2816\" decoding=\"async\" height=\"170\" src=\"//upload.wikimedia.org/wikipedia/commons/thumb/6/61/Weston_Library_Opening_by_John_Cairns_20.3.15-139.jpg/220px-Weston_Library_Opening_by_John_Cairns_20.3.15-139.jpg\" srcset=\"//upload.wikimedia.org/wikipedia/commons/thumb/6/61/Weston_Library_Opening_by_John_Cairns_20.3.15-139.jpg/330px-Weston_Library_Opening_by_John_Cairns_20.3.15-139.jpg 1.5x, //upload.wikimedia.org/wikipedia/commons/thumb/6/61/Weston_Library_Opening_by_John_Cairns_20.3.15-139.jpg/440px-Weston_Library_Opening_by_John_Cairns_20.3.15-139.jpg 2x\" width=\"220\"/></a>,\n",
       " <a class=\"image\" href=\"/wiki/File:Stephen_Hawking_in_Stockholm,_2015.jpg\"><img alt=\"\" class=\"thumbimage\" data-file-height=\"3264\" data-file-width=\"3264\" decoding=\"async\" height=\"220\" src=\"//upload.wikimedia.org/wikipedia/commons/thumb/9/95/Stephen_Hawking_in_Stockholm%2C_2015.jpg/220px-Stephen_Hawking_in_Stockholm%2C_2015.jpg\" srcset=\"//upload.wikimedia.org/wikipedia/commons/thumb/9/95/Stephen_Hawking_in_Stockholm%2C_2015.jpg/330px-Stephen_Hawking_in_Stockholm%2C_2015.jpg 1.5x, //upload.wikimedia.org/wikipedia/commons/thumb/9/95/Stephen_Hawking_in_Stockholm%2C_2015.jpg/440px-Stephen_Hawking_in_Stockholm%2C_2015.jpg 2x\" width=\"220\"/></a>,\n",
       " <a class=\"image\" href=\"/wiki/File:Physicist_Stephen_Hawking_in_Zero_Gravity_NASA.jpg\"><img alt=\"Hawking, without his wheelchair, floating weightless in the air inside a plane\" class=\"thumbimage\" data-file-height=\"2660\" data-file-width=\"3990\" decoding=\"async\" height=\"167\" src=\"//upload.wikimedia.org/wikipedia/commons/thumb/0/08/Physicist_Stephen_Hawking_in_Zero_Gravity_NASA.jpg/250px-Physicist_Stephen_Hawking_in_Zero_Gravity_NASA.jpg\" srcset=\"//upload.wikimedia.org/wikipedia/commons/thumb/0/08/Physicist_Stephen_Hawking_in_Zero_Gravity_NASA.jpg/375px-Physicist_Stephen_Hawking_in_Zero_Gravity_NASA.jpg 1.5x, //upload.wikimedia.org/wikipedia/commons/thumb/0/08/Physicist_Stephen_Hawking_in_Zero_Gravity_NASA.jpg/500px-Physicist_Stephen_Hawking_in_Zero_Gravity_NASA.jpg 2x\" width=\"250\"/></a>,\n",
       " <a class=\"image\" href=\"/wiki/File:Stephen_Hawking%27s_resting_place_at_Westminster_Abbey.jpg\"><img alt=\"\" class=\"thumbimage\" data-file-height=\"3072\" data-file-width=\"4096\" decoding=\"async\" height=\"165\" src=\"//upload.wikimedia.org/wikipedia/commons/thumb/8/87/Stephen_Hawking%27s_resting_place_at_Westminster_Abbey.jpg/220px-Stephen_Hawking%27s_resting_place_at_Westminster_Abbey.jpg\" srcset=\"//upload.wikimedia.org/wikipedia/commons/thumb/8/87/Stephen_Hawking%27s_resting_place_at_Westminster_Abbey.jpg/330px-Stephen_Hawking%27s_resting_place_at_Westminster_Abbey.jpg 1.5x, //upload.wikimedia.org/wikipedia/commons/thumb/8/87/Stephen_Hawking%27s_resting_place_at_Westminster_Abbey.jpg/440px-Stephen_Hawking%27s_resting_place_at_Westminster_Abbey.jpg 2x\" width=\"220\"/></a>,\n",
       " <a class=\"image\" href=\"/wiki/File:Hawking_Office_Blackboard.jpg\"><img alt=\"\" class=\"thumbimage\" data-file-height=\"2165\" data-file-width=\"4081\" decoding=\"async\" height=\"117\" src=\"//upload.wikimedia.org/wikipedia/commons/thumb/7/76/Hawking_Office_Blackboard.jpg/220px-Hawking_Office_Blackboard.jpg\" srcset=\"//upload.wikimedia.org/wikipedia/commons/thumb/7/76/Hawking_Office_Blackboard.jpg/330px-Hawking_Office_Blackboard.jpg 1.5x, //upload.wikimedia.org/wikipedia/commons/thumb/7/76/Hawking_Office_Blackboard.jpg/440px-Hawking_Office_Blackboard.jpg 2x\" width=\"220\"/></a>,\n",
       " <a class=\"image\" href=\"/wiki/File:Barack_Obama_speaks_to_Stephen_Hawking_(cropped).jpg\"><img alt=\"Photograph of Barack Obama talking to Stephen Hawking in the White House\" class=\"thumbimage\" data-file-height=\"2333\" data-file-width=\"1876\" decoding=\"async\" height=\"211\" src=\"//upload.wikimedia.org/wikipedia/commons/thumb/9/94/Barack_Obama_speaks_to_Stephen_Hawking_%28cropped%29.jpg/170px-Barack_Obama_speaks_to_Stephen_Hawking_%28cropped%29.jpg\" srcset=\"//upload.wikimedia.org/wikipedia/commons/thumb/9/94/Barack_Obama_speaks_to_Stephen_Hawking_%28cropped%29.jpg/255px-Barack_Obama_speaks_to_Stephen_Hawking_%28cropped%29.jpg 1.5x, //upload.wikimedia.org/wikipedia/commons/thumb/9/94/Barack_Obama_speaks_to_Stephen_Hawking_%28cropped%29.jpg/340px-Barack_Obama_speaks_to_Stephen_Hawking_%28cropped%29.jpg 2x\" width=\"170\"/></a>,\n",
       " <a class=\"image\" href=\"/wiki/File:Monty_Python_Live_02-07-14_12_55_10_(14415565317).jpg\"><img alt=\"\" class=\"thumbimage\" data-file-height=\"1944\" data-file-width=\"2592\" decoding=\"async\" height=\"165\" src=\"//upload.wikimedia.org/wikipedia/commons/thumb/5/5a/Monty_Python_Live_02-07-14_12_55_10_%2814415565317%29.jpg/220px-Monty_Python_Live_02-07-14_12_55_10_%2814415565317%29.jpg\" srcset=\"//upload.wikimedia.org/wikipedia/commons/thumb/5/5a/Monty_Python_Live_02-07-14_12_55_10_%2814415565317%29.jpg/330px-Monty_Python_Live_02-07-14_12_55_10_%2814415565317%29.jpg 1.5x, //upload.wikimedia.org/wikipedia/commons/thumb/5/5a/Monty_Python_Live_02-07-14_12_55_10_%2814415565317%29.jpg/440px-Monty_Python_Live_02-07-14_12_55_10_%2814415565317%29.jpg 2x\" width=\"220\"/></a>,\n",
       " <a class=\"image\" href=\"/wiki/File:Stephen_hawking_and_lucy_hawking_nasa_2008.jpg\"><img alt=\"Photograph of Hawking and his daughter Lucy on-stage at a presentation\" class=\"thumbimage\" data-file-height=\"2376\" data-file-width=\"3460\" decoding=\"async\" height=\"172\" src=\"//upload.wikimedia.org/wikipedia/commons/thumb/2/27/Stephen_hawking_and_lucy_hawking_nasa_2008.jpg/250px-Stephen_hawking_and_lucy_hawking_nasa_2008.jpg\" srcset=\"//upload.wikimedia.org/wikipedia/commons/thumb/2/27/Stephen_hawking_and_lucy_hawking_nasa_2008.jpg/375px-Stephen_hawking_and_lucy_hawking_nasa_2008.jpg 1.5x, //upload.wikimedia.org/wikipedia/commons/thumb/2/27/Stephen_hawking_and_lucy_hawking_nasa_2008.jpg/500px-Stephen_hawking_and_lucy_hawking_nasa_2008.jpg 2x\" width=\"250\"/></a>,\n",
       " <a class=\"image\" href=\"/wiki/File:Princess_of_Asturias_Foundation_Emblem.svg\"><img alt=\"Princess of Asturias Foundation Emblem.svg\" data-file-height=\"1296\" data-file-width=\"952\" decoding=\"async\" height=\"68\" src=\"//upload.wikimedia.org/wikipedia/commons/thumb/7/70/Princess_of_Asturias_Foundation_Emblem.svg/50px-Princess_of_Asturias_Foundation_Emblem.svg.png\" srcset=\"//upload.wikimedia.org/wikipedia/commons/thumb/7/70/Princess_of_Asturias_Foundation_Emblem.svg/75px-Princess_of_Asturias_Foundation_Emblem.svg.png 1.5x, //upload.wikimedia.org/wikipedia/commons/thumb/7/70/Princess_of_Asturias_Foundation_Emblem.svg/100px-Princess_of_Asturias_Foundation_Emblem.svg.png 2x\" width=\"50\"/></a>,\n",
       " <a class=\"image\" href=\"/wiki/File:Stylised_atom_with_three_Bohr_model_orbits_and_stylised_nucleus.svg\"><img alt=\"icon\" data-file-height=\"600\" data-file-width=\"530\" decoding=\"async\" height=\"19\" src=\"//upload.wikimedia.org/wikipedia/commons/thumb/6/6f/Stylised_atom_with_three_Bohr_model_orbits_and_stylised_nucleus.svg/17px-Stylised_atom_with_three_Bohr_model_orbits_and_stylised_nucleus.svg.png\" srcset=\"//upload.wikimedia.org/wikipedia/commons/thumb/6/6f/Stylised_atom_with_three_Bohr_model_orbits_and_stylised_nucleus.svg/26px-Stylised_atom_with_three_Bohr_model_orbits_and_stylised_nucleus.svg.png 1.5x, //upload.wikimedia.org/wikipedia/commons/thumb/6/6f/Stylised_atom_with_three_Bohr_model_orbits_and_stylised_nucleus.svg/34px-Stylised_atom_with_three_Bohr_model_orbits_and_stylised_nucleus.svg.png 2x\" width=\"17\"/></a>,\n",
       " <a class=\"image\" href=\"/wiki/File:He1523a.jpg\"><img alt=\"icon\" data-file-height=\"207\" data-file-width=\"180\" decoding=\"async\" height=\"19\" src=\"//upload.wikimedia.org/wikipedia/commons/thumb/5/5f/He1523a.jpg/16px-He1523a.jpg\" srcset=\"//upload.wikimedia.org/wikipedia/commons/thumb/5/5f/He1523a.jpg/25px-He1523a.jpg 1.5x, //upload.wikimedia.org/wikipedia/commons/thumb/5/5f/He1523a.jpg/33px-He1523a.jpg 2x\" width=\"16\"/></a>,\n",
       " <a class=\"image\" href=\"/wiki/File:Nuvola_apps_bookcase.svg\"><img alt=\"icon\" data-file-height=\"128\" data-file-width=\"128\" decoding=\"async\" height=\"19\" src=\"//upload.wikimedia.org/wikipedia/commons/thumb/a/a5/Nuvola_apps_bookcase.svg/19px-Nuvola_apps_bookcase.svg.png\" srcset=\"//upload.wikimedia.org/wikipedia/commons/thumb/a/a5/Nuvola_apps_bookcase.svg/29px-Nuvola_apps_bookcase.svg.png 1.5x, //upload.wikimedia.org/wikipedia/commons/thumb/a/a5/Nuvola_apps_bookcase.svg/38px-Nuvola_apps_bookcase.svg.png 2x\" width=\"19\"/></a>,\n",
       " <a class=\"image\" href=\"/wiki/File:Diploma_icon.png\"><img alt=\"icon\" data-file-height=\"128\" data-file-width=\"128\" decoding=\"async\" height=\"19\" src=\"//upload.wikimedia.org/wikipedia/commons/thumb/7/76/Diploma_icon.png/19px-Diploma_icon.png\" srcset=\"//upload.wikimedia.org/wikipedia/commons/thumb/7/76/Diploma_icon.png/29px-Diploma_icon.png 1.5x, //upload.wikimedia.org/wikipedia/commons/thumb/7/76/Diploma_icon.png/38px-Diploma_icon.png 2x\" width=\"19\"/></a>,\n",
       " <a class=\"image\" href=\"/wiki/File:Nuvola_apps_kalzium.svg\"><img alt=\"icon\" data-file-height=\"128\" data-file-width=\"128\" decoding=\"async\" height=\"19\" src=\"//upload.wikimedia.org/wikipedia/commons/thumb/8/8b/Nuvola_apps_kalzium.svg/19px-Nuvola_apps_kalzium.svg.png\" srcset=\"//upload.wikimedia.org/wikipedia/commons/thumb/8/8b/Nuvola_apps_kalzium.svg/29px-Nuvola_apps_kalzium.svg.png 1.5x, //upload.wikimedia.org/wikipedia/commons/thumb/8/8b/Nuvola_apps_kalzium.svg/38px-Nuvola_apps_kalzium.svg.png 2x\" width=\"19\"/></a>]"
      ]
     },
     "execution_count": 5,
     "metadata": {},
     "output_type": "execute_result"
    }
   ],
   "source": [
    "soup.select('.image')"
   ]
  },
  {
   "cell_type": "code",
   "execution_count": 6,
   "metadata": {},
   "outputs": [],
   "source": [
    "signature = soup.select('.image')[1]"
   ]
  },
  {
   "cell_type": "code",
   "execution_count": 7,
   "metadata": {},
   "outputs": [
    {
     "data": {
      "text/plain": [
       "<a class=\"image\" href=\"/wiki/File:Hawkingsig.svg\"><img alt=\"Hawkingsig.svg\" data-file-height=\"243\" data-file-width=\"384\" decoding=\"async\" height=\"95\" src=\"//upload.wikimedia.org/wikipedia/commons/thumb/c/c9/Hawkingsig.svg/150px-Hawkingsig.svg.png\" srcset=\"//upload.wikimedia.org/wikipedia/commons/thumb/c/c9/Hawkingsig.svg/225px-Hawkingsig.svg.png 1.5x, //upload.wikimedia.org/wikipedia/commons/thumb/c/c9/Hawkingsig.svg/300px-Hawkingsig.svg.png 2x\" width=\"150\"/></a>"
      ]
     },
     "execution_count": 7,
     "metadata": {},
     "output_type": "execute_result"
    }
   ],
   "source": [
    "signature"
   ]
  },
  {
   "cell_type": "code",
   "execution_count": 8,
   "metadata": {},
   "outputs": [
    {
     "data": {
      "text/plain": [
       "bs4.element.Tag"
      ]
     },
     "execution_count": 8,
     "metadata": {},
     "output_type": "execute_result"
    }
   ],
   "source": [
    "type(signature)"
   ]
  },
  {
   "cell_type": "code",
   "execution_count": 9,
   "metadata": {},
   "outputs": [
    {
     "data": {
      "text/plain": [
       "['image']"
      ]
     },
     "execution_count": 9,
     "metadata": {},
     "output_type": "execute_result"
    }
   ],
   "source": [
    "signature['class']"
   ]
  },
  {
   "cell_type": "markdown",
   "metadata": {},
   "source": [
    "<img src=\"//upload.wikimedia.org/wikipedia/commons/thumb/c/c9/Hawkingsig.svg/150px-Hawkingsig.svg.png\">"
   ]
  },
  {
   "cell_type": "code",
   "execution_count": 10,
   "metadata": {},
   "outputs": [],
   "source": [
    "image_link = requests.get(\"https://upload.wikimedia.org/wikipedia/commons/thumb/c/c9/Hawkingsig.svg/150px-Hawkingsig.svg.png\")"
   ]
  },
  {
   "cell_type": "code",
   "execution_count": 11,
   "metadata": {},
   "outputs": [
    {
     "data": {
      "text/plain": [
       "b'\\x89PNG\\r\\n\\x1a\\n\\x00\\x00\\x00\\rIHDR\\x00\\x00\\x00\\x96\\x00\\x00\\x00_\\x08\\x06\\x00\\x00\\x00\\n\\xe6>\\x9e\\x00\\x00\\x00\\x06bKGD\\x00\\xff\\x00\\xff\\x00\\xff\\xa0\\xbd\\xa7\\x93\\x00\\x00\\x0f\\xf4IDATx\\x9c\\xed\\x9dw\\x98\\x14\\xe5\\x1d\\xc7?w\\x07w\\x14\\x11<\\x10\\xe1P@\\x08\"\\xa8\\x9c\\n\\x01\\x05\\x04\\xa5\\x89`!(Q\\xa3Q\\x8aA\\xd1\\xa0\"\\x8a\\x9a\\xc4\\x92X \\x96\\xd8\\x13\\xbb\\xa8\\x11\\xec\\x8d\\x0b\\x82\\x8a\\x18E\\x10\\xa3(\\xc1hP)J\\x10\\xb1\\x80X@\\x04\\xb9\\xfc\\xf1\\x9dyvvvfv\\xb6\\xce\\xec\\xde|\\x9e\\xe7\\x9e}v\\xf6\\xdd\\x9d\\xf7v\\xdf\\xf9\\xbd\\xbf>\\x90\\x1a\\x95\\xc0\\x85\\xc0;\\xc0W\\xc0\\xe7\\xc0#@\\x97\\x14?\\'\\xa2\\xc8\\xa9\\xe7s\\\\C\\xe0\"`\\x12\\xf01\\xf0\\x18\\xb0\\nh\\x02\\x0c\\x04\\xfe\\x05\\x1c\\x0b\\xcc\\xcd\\xc1\\x1c#\\x8a\\x94~\\xc0J\\xe0M\\xe0\\x10\\x971\\x07\\x01k\\x81\\xbd\\xf35\\xa9\\x88\\xc2f\\x12\\xb0\\x19\\x98\\x0c\\x94&\\x19{6\\xb0\\x18(\\xc9\\xf5\\xa4\"\\n\\x97\\n\\xa4;\\xad\\x07\\xfa\\xfa|O\\x99\\xf1\\x9eV\\xb9\\x9aTDaS\\x01<\\x0f\\xac\\x00\\xda\\x07;\\x95\\x88b\\xa1\\x04\\x98\\x8e\\xac\\xbdN\\xc1N%\\xc2\\x83\\xab)0\\x95\\xe3B`\\x0b\\xd0;\\xe8\\x89Dx\\xf2<01\\xe8I\\xf8\\xa5\\x1b\\xf0\\x030>\\xe8\\x89D$\\xe5|\\xe0\\x1b`\\x97\\xa0\\'\\x92\\x8c2\\xe4\\xf4\\xac\\xa1\\xc0Dl\\x1d\\xa5\\x1bP\\x0b\\\\\\x12\\xf4D\\x92q,\\xf0=\\xd0&\\xe8\\x89D\\xf8\\xa2\\x04\\xf8\\xd4\\xf8K\\xe6\\x06\\n\\x94W\\x81\\xab\\x82\\x9eD\\x9eh\\x034\\nz\\x12Y`:\\x92Z?\\x0fx\\x1e\\xae\\xec\\x87\\x14\\xf6\\xd0\\xef\\xd7Y\\xe2\\x00\\xe0\\xbc\\xa0\\'\\x91\\x05\\xc6\\xa0\\x85uN\\xd0\\x13q\\xa2\\x14\\x18\\x80t\\xab\\x8d\\x01\\xcf%_\\xbc\\x0f\\x9cF\\xc8\\xb7\\x10\\x1f\\xbcm<\\xfe,\\xd0Y\\xb8P\\n\\xf4\\x01\\x9e\\tz\"y\\xe4\\x07\\x14H?\"\\xe8\\x89d\\xc8\\x7f\\x80\\xad\\xc0\\x9eAO\\xc4\\x89R\\xa0;\\xb0,\\xe8\\x89\\xe4\\x99Y\\xc0\\xaf\\x83\\x9eD\\x86l\\x03\\xde\\x03v\\x0ez\"n\\xac\\x07\\xda\\x06=\\x89<\\xd3\\x16Y\\xc1\\xa1\\xfdQ|2\\x07X\\x12\\xf4$\\x9c(\\x05\\x1a\\x00\\xe5AO$GT\\xb9\\x1c\\xff\\x04]\\xed#\\xf38\\x97\\\\\\xb0\\th\\x1c\\xf4$\\x9c(\\x05vP\\xbc\\x19\\t7\\x01\\xcd]^\\x9b\\t\\x9c\\x94\\xc7\\xb9\\xe4\\x82\\xaf\\x91`\\x08\\x1d\\xa5\\xc0r\\xe4r(F>\\xc3}\\xf1<\\x02\\xf4\\xc7]\\xaa\\x15\\x02\\xdf\\x13R\\xeb\\xb6\\x14Y\\x17\\x83\\x83\\x9eH\\x8ex\\x0b\\x18\\xe6\\xf2\\xdaZ`!pb\\xfe\\xa6\\x93u\\x1a\\x91\\xf9\\xc2z\\x16\\xb81\\x0bsI\\xe0\\x0c\\x14\\xd0\\xac\\xc8\\xc5\\x87\\x07\\xcc~\\xe8\\xaav\\xdb.N\\'\\xe6\\x0f*Df\\x02\\xeb2x\\xff\\x00\\xe4d}<\\x83\\xcfh\\x8fK\\xedDk`;04\\x83\\x0f\\x0f+\\xa5\\xa8\\x9ah\\x80\\xcb\\xeb\\xcd\\x81\\x1f\\x81}\\xf36\\xa3\\xec2\\x1bY\\xf5\\xe9\\xf24ZXs\\xd2|\\x7fO\\xe3\\xfd\\xefcs\\xd4\\x96\\xa2\\x15\\xff,pV\\x06\\x13\\x0c+;\\x80\\x97\\x81A.\\xaf\\x7f\\x05\\xcc\\x03N\\xce\\xd7\\x84\\xb2\\xcc\\xae(3%\\x19\\x0b\\x1c\\x8e5@*\\xd0\\xab\\xc0Ni\\x9e\\xbf)\\xb0\\x01\\xd5:\\xcc\\x07:\\xd8\\x07\\xf4\\x02~\\x02\\xf6I\\xf3\\x04a\\xe6L\\xe0\\r\\x8f\\xd7\\xc7 \\xf7C(\\x95`\\x0f\\xca\\xd06\\xbf)\\xc9\\xb8&H\\xaa\\xd8-\\xffA(S\\xf8\\x08\\x942\\x95\\x0e\\x07\\x1a\\x9f\\xdd\\x14\\xb8\\x17x\\x1d\\x87m\\xf1\\t\\xe0\\xbe4O\\x10f:\\xa3\\xad\\xbe\\xd2\\xe5\\xf5]Ph\\xe4\\xd0|M(KtF?\\xea\\xe6$\\xe3\\xf61\\xc6\\xd9\\x85\\xc64\\xb4Su\\x07>Ls\\x0e\\x1d\\x88-\\xdar\\xe4\\x1b\\xbc\\xc0i\\xa2?\\x10\\xe24\\x8c\\x0cX\\x83r\\xce\\xdc\\xa8\\x01\\xee\\xce\\xd3\\\\\\xb2\\xc5(\\xf4\\xa3nK2\\xee\\x08c\\\\/\\xdb\\xf1\\xf9\\xc0\\xe5H\\xbfL\\xc5\\x00h\\x0e\\xdc\\x8f$a\\x1b\\xe3\\xb3w3^\\x1b\\x89r\\xc4\\xea[\\xc5\\xffr\\xe0Z\\xe0.\\xfcWH\\x17\\n\\xf3p\\xd7\\xb3\\x00\\x1e\\x05\\x8e#\\xa4\\xceF\\x17\\xfa\\x01\\xab\\xd1\\x96\\xe8\\x95\\xf5k\\xb6?\\xb0\\xeaQ%(}h\\tZ\\x98~u\\xacJ\\xe0\\x05\\xa4\\xac\\x7f\\x8b\\xd4\\x87\\xed\\xc8Q\\x0bJf\\xa8\\x07\\x1cm\\x7fc9\\xb0\\x14\\x15U\\x14\\x13\\xbf\\xc2[\\xdc7E\\xd2zT~\\xa6\\x93\\x15V\"\\xc9Q\\x8bwH\\xce\\x1cs\\x8c\\xe5X\\'\\xe3\\xd8\\xee(;\\xe2\\'\\x92\\xa7\\xa4\\x97\\x02\\xaf\\x00\\x97Z\\x8e\\x1d\\x84\\x04\\x92\\x95\\x87\\x81[\\x9d>\\xa0\\x1a)\\x84}\\x92\\x9c\\xa8\\x90\\xa8DWVW\\x8f1\\xb3\\x08G\\xfaP\\xb5\\x8f1]\\xd1\\xc2\\x18g<z\\xc5\\x0b\\xdf1\\xc6X\\x1d\\xc1\\'\\x10sS\\x98\\xdbY\\xb2\\x98\\xe3$\\x94\\x05c\\xdd\\xe5N\\x01\\x9e\\xb2\\x8d\\xfb\\x13\\xb0\\xc0\\xc9\\x12Z\\x8a\\xaa@\\x1e\\xa7xr\\xe07\\x00\\x8b\\xf0\\xd6\\xb3\\x9eC\\xfa\\x88\\xdf\\xb8i}`4R\\x82\\xcf${u\\x98\\xa7\"\\xfd\\xc5\\x8b\\x91HQ\\xfe\\xdc2\\x17\\'\\xca\\x89]L\\r-\\xc7\\x0f \\xe6\\x18\\xfe\\xd1x\\xf4\\xda\\x0e\\xdb\\x01W\\x02/\"\\x17\\x8e\\xc9a\\xc0?mcW\\x03\\xad\\xddL\\xec\\xbbP\\xe7\\x98\\'\\xc8<?\\xbc\\x15J\\x9f\\r\\xda\\x951\\x1b\\xf8\\xa5\\xe5y[\\xb4\\xf5\\x1d\\x86\\xae\\xc2\\xe7\\xd1\\x0f4\\xd6\\xc7gU\\xa1p\\xd0\\x18dU\\x0eG?\\xd4\\x1c`H\\x86\\xf3<\\x84\\xe4\\xe9<\\'\\x00\\x0f\\x10\\xbb\\xf0\\xddt\\xc3\\xae\\xc4\\x16\\x9duL5\\xb1t\\x1bS\\xf9\\xf7\\x92X\\x17\\xa0u`\\x8d\\xce4\\x00\\x8eD\\x86\\x8f\\x955\\xb8[\\xe0`Lh\\x0eZ\\x91\\xc9\\xae 7\\xaa\\x8c\\x13\\xadC\\x01\\xe1 \\x93\\xeb\\xaa\\x91\\xc8\\xbf\\nI\\xa7\\xcdhq,Gs\\xfc\\x1b\\xd2\\xb3V\\xe1\\xed\\xd3\\xda\\xd9x\\xcf\\x08\\xdb\\xf1\\xa6\\xa81\\xca\\xe7\\xe8\\xa2L\\xe7B*\\x01\\xbe\\xc3\\xbbk\\xcf~h[o\\x83\\xa4e-\\xf2\\'91\\x0eI\\x98Z\\xe2\\xf3\\xfc?C\\xc6\\nhA\\xd5\\xa2\\x9227>6\\xc6|D\\xcc\\xb0;\\x03\\xednv\\x06\\xa1\\x10\\xa1\\'\\x8d\\x81\\xd7\\x90\\xe3+\\x9db\\x8b\\'\\x91\\xf8l\\x88~\\x90\\x1a\\xfcI\\x84\\\\P\\x82\\x16P-0\\x83\\xf8\\xac\\x86!\\xc0\\xff\\x8c\\xd7j\\xf1N[\\xbe\\x03\\xa5\\xe3\\xb8\\xd1\\x0c\\xb8\\x13-R{\\xa1\\xc3\\x9ex/\\xdav\\xc6\\xf9{x\\x8c\\xb9\\x81X\\x1f\\xb2\\x87\\x8d\\xf1nE\\xc6\\xf7\\xa0j\\x9eM\\xc0\\xef\\x8dc\\xad\\x8d\\xf7\\x98^\\xf2r\\xe3\\xb9[\\xf5{\\x0b\\xe3\\xf5)\\xc8\\xfa\\xfb3\\xca\\x18\\xf9\\x0e\\xe7\\x00\\xfe0\\x14\\xd1HJc\\xe3\\x1fY\\x86|]~\\x19\\x0e|\\x89\\xfe\\x11\\x93zH\\x02\\x0eO\\xe1s\\xb2\\xc9\\xedH\"9Y@\\xcd\\x91\\xd5S\\x8bbhNT\\xa1\\x8a\\xa6\\xdd}\\x9c\\xeb\\x17\\xc83n\\xcd\\x1c\\x19\\x83Ru\\xdc\\x18j\\x9c\\xbf\\x9f\\xcb\\xeb;\\xa1\\xa2\\x97\\xe3\\x8d\\xe7\\xaf\\x1b\\xe3w\\x10\\xbf\\xcd\\x9b\\xfc\\x17I\\xaa\\xd9\\xc0u\\xc6\\xb1\\xe1H\\xe74\\xbf\\x83\\x12$\\x01\\xdd\\xb6\\xf0\\x01H\\x0fk\\x08\\x1c\\x8e.\\xc0/\\x80\\xdf\\xba\\x8c\\x1fa\\x8c\\xf1E9\\xf2\\xca\\x7f\\x83\\xbf4\\x93]Q\\x98\\xe4x\\x87\\xd7\\xda\\xa3\\x1f7\\x88\"\\x80\\xc1\\xe8Jk\\xef\\xf2\\xfa.H)\\xde\\x86\\xb3\\xe12\\x81\\xd4\\xb2!.!\\xbe^s\\x14p\\xb3\\xc7\\xf8Ih\\xa1\\xb8%\\x04\\x9c\\x81\\xd2}L\\xbdi\\x831\\xfeS\\xb4x\\xac\\xb4@\\x0bn\\x08j\"\\xf2\\xa0q\\xfc\\n\\x12\\xf5\\xa2/q\\xcf\\xa6=\\x97\\xd4B>\\xa7\\x00K\\xfc\\xc6\\xc7~DW\\xdbD$\\xe6\\xef%\\xe6m\\xb5\\xd3\\x049\\x1c_A\\xc9tvV\\x03\\x17\\xa3\\x94\\x0f7k&W\\xccG[\\xd4bd\\xc95\\xb5\\xbd\\xbe\\x118\\n-\\xacq\\x0e\\xef\\xef\\x8d\\xfe/\\xbfT\\x10\\xbf\\x88\\xbf\\xc3;\\xb2aZpN\\x16Z\\t\\x92\\x12\\xb7\\x1b\\xf3k\\x8b.\\x84\\x97\\x91za\\xff\\\\sk[\\x8a\\\\\\x0b\\xbbY\\x8e\\xbfl\\x1b\\xbb\\x11\\xf7L\\xdbn\\xa4\\x96W\\xdf\\x11X\\x9fj\\xe0\\xf5~\\x14\\x02h\\x8e\\x14\\xb9\\xeb\\x90\\xa2Y\\x0fY\\tC\\x89E\\xd2\\x7f\\xe3\\xf19\\x0f#\\xe9\\x97\\x10W\\xca1\\xdb\\xd16\\xd7\\x12\\xb8\\r\\x19\\x15\\xd3\\x89\\xffQV\\x00\\xd7\\xa3\\xdaC{\\xe6@\\x151\\x13?\\x19\\x8d\\x90\\xeec5\\xf3\\xd7!#\\xc2-\\xb2a.,\\'\\x97\\xc7a(5\\xe5N\\xe3\\xb9\\xe9\\xef\\xba\\x07%k\\xb6 ~q\\xf4A\\xd2u=\\xda\\xbaZ\\x1b\\xe7\\xedI\\xe2\\xc2\\xda\\x80v\\x19\\'\\xaa\\x91\\xab\\xc6/\\x1d\\x81\\xd5\\xe9D\\xf4?F^\\xdc\\xc3\\x91Y\\xb9\\x10]A[\\x90\\x14\\x9a\\x8b\\x16\\xd8\\x96$\\x9fs6\\xf2\\xf0\\xef\\xe51fo\\xb2\\xdf\\xa7\\xeb1\\xe3q,\\x12\\xf3[\\x91\\xaba\\x11\\xfa\\xd2A\\nj\\x05\\x89\\x96\\x1fh\\xeb\\xf1\\xc3-\\xe8\\xc7\\xb2z\\xc5?D\\x17\\xa0\\x9b\\xd5g.,\\xa7t\\xe9s\\xd0\\x05i:6\\xbb!\\x1d\\xeei\\xa4\\xd3l&^\\xbd\\x18Jl\\xcb\\xdb\\x84\\x16eotq\\xd9\\xb7\\xf3\\xd5\\xe8b\\xb3\\xd3\\xd48\\xcfk.\\xf3u\\xa2#\\x89\\xde\\xf8\\xb4(E\\xd6\\xcc\\x1e\\xa4\\x1ec\\xbc\\x16y\\xbc\\xdd(\\x07\\xfe\\x81B\\x07\\xd9\\xa2>\\xd2)\\xac\\xb1\\xc3f\\xc6\\\\\\xb6\\x02S\\xd1\\xa2\\x9a\\x86\\xbaA[\\xb9\\x87DO\\xb3\\x13\\x97\\xa1\\x0bl\\x07\\x8a\\xadYY\\x8b\\xb3\\xdb\\xa5\\n-\\xda\\xe5hg\\xb0r Z\\x10\\xd6\\xb6\\xe73m\\xe3\\xde\"\\xa6\\xc0\\xefA\\xbc\\x1b\\xa2\\xbb\\xf1\\xfcQ\\xe4V\\xb1s5\\xf2Y\\xda9\\x12Yx~;\\x10\\x95 \\xe9\\xe7\\x96\\x0e\\x9e7Z\\xa0`\\xa6W\\x9f\\xd3*\\xa4<z\\x85cR\\xe5z\\x9cS\\x84\\x06\\xa3/r\\x01\\xba\\xbaw\\x10o\\xd5\\x8d@:\\x9a[\\xc6\\xe9N(Kb\\x1e\\x92L\\x1f\\x90\\x98d\\xf7\\x92q~;\\x87\\xa3\\xdd\\xe0\"\\x12\\xf3\\xc7j\\x90\\xeb\\xc6\\xcaR\\xe2\\xc3n\\xd3\\x89\\xb55\\xb2\\xfb\\x98\\xca\\x91\\xea\\xb1\\x1dg\\x1d\\xefT\\x9c\\xa5\\xcc_p\\xd6\\x93\\xdd\\xd8\\x1b-\\xe0P\\x14\\xa8L#y\\x7f\\xf8*\\xb4\\x85eK\\xd9\\xef\\x8c\\xb6\\x11\\'\\xdf\\\\Wd\\xd1\\xaeB~\\xafy\\x96\\xd7\\xca\\x90\\xbb\\xe4C\\xe2\\x17z%2\\x06\\xd6\\xa2-\\xd0\\xdc\\xfef Ibe*\\xf2\\xed\\xd9\\xb9\\x1cmu\\xdd\\xd0\\xb6fJ\\xff\\xa3\\xd1\\x02\\xb7/\\x88\\xbf\\xdb\\x9e\\x9f\\x8f\\xa4\\x18H\\x87:\\xdb\\xf6\\xfa\\t\\xe8\\xbbv\\xa2\\x13Ztv\\x05~\\x19\\xdea0;c\\xd1w\\x16\\nZ\"},!\\xad5\\xc7\\xcc\\xc3\\xbdSKg\\xa4\\xa4\\x9b\\x0eSk.SK\\xa4Wn7\\x1e\\x17#i\\xf0(\\x89\\xde\\xeb\\xc9h\\x91Z9\\x12m\\xc5\\xf6\\xede\\xaee>\\xef\\xa2\\xc4\\xc3*\\xb4Xg\\xf8\\xf8\\x7f\\x0eF\\xd2\\x7f<rdz\\x86Ul\\x98\\xfd\\xb6\\xac\\xe9\\xe9\\xbd\\xd1\\xff\\xd5\\xd0\\xf1\\x1d\\xce\\xdc\\x8d\\xf3\\x96\\x1a\\x18\\xcf\\x90\\x7f\\x0bq\\x14\\xf2Y\\xb9\\xe9\\x0f=\\xd0\\x17\\xeb\\xe40m\\x80\\xac\\xc6\\xcb\\x90\\xbe\\xe4\\xf6#\\xf6B\\x86\\x8dU\\xf7\\xacD\\x12h\\x7f\\xcb\\xb1R\\xa4`\\x9b\\xf5\\x9d\\x13\\xd0v\\xf8\\xbeq\\xdc\\x8fC\\xb6\\x0cY\\xb4\\xb5Hz\\xa5\\xca\\xd5hq\\x99R|&\\xa9\\xf7L{\\x0f\\xf9\\xe2B\\xc35\\xc0Cy>g=\\x94\\xd3t\\x94\\xc7\\x98\\x81H\\xa7\\xdaAz\\x95<e\\xc8Gd\\x97do\\x10\\x9f\\xf3\\xd6\\x13I\\xa6\\x12\\xcb\\xfbnBR\\xac{\\n\\xe7\\xeb\\x87\\xdc(\\xe9\\xb4Lh\\x85,\\xce\\x1a$9\\xd7\\x90Z\\x8c\\xb8-\\xfa\\x9e\\xfc\\xa4\\xfd\\xe4\\x85\\x12\\xf4E;)\\xb4\\xb9\\xe6,T\\xa5\\xe2\\xc5\\x99H\\n\\xd8\\xbd\\xd5~y\\x92D}g\\n\\xdaFM\\xae!\\x1c\\xf5\\x06=\\x90\\x15;\\x1f\\xa5\\xd6\\xa4\\xc2Y\\xc8_\\x16\\x9a\\xa2\\x94)hB~\\xc4}\\xb6i\\x84t\\xa9dI\\x8dO\\xa2\\xc550\\x8ds\\x9cH\\xa2\\xe7\\xba#1\\x85\\xbc\\x04I\\xceB\\xca^ub\\x0e\\xfetAWZ\\xa0x\\xd3-dV\\x9a_\\x1fYB\\xeb\\t\\xb6\\x80\\xe3R\\xbc}i \\xbd\\xe8\\x13\\xe0\\xdf\\xa4n\\x99\\xd6G\\xdb\\x9c\\xfd\\x7f\\xacA\\xd2r\\nJc)\\xe4J\\xf4&Hep\\x8a\\r\\xfb\\xa25R\\x10g!\\xf1\\xfd\\x11r\"\\xa6z\\xbf\\xc2\\x83\\x90\\x9fe.\\xc1H*+\\xcd\\x90S/\\xd9M\\x13\\xfa\"K\\xf0\\xe24\\xce1\\x1a\\xa5\\xbbX\\xe9\\x80B<f\\x8aq!s\\x1cr.\\xa7\\xddo\\xec)\\xe2\\xcb\\xa4*P~\\xd2\\xb7\\xf8\\xcbz\\xe8k|\\xc6z\\xa4\\xbb\\x84\\xa5\\xa7\\xfc%$\\xd7\\xb5@~\\xa0\\xcd\\xa4\\xd7\\xf7\\xd3I\\xa9\\xdd\\x15\\xf7$\\xbdB\\xe2q\\x92K}W\\xf6B\\xe2\\xce)@:\\x16e@\\\\I\\xe2b\\xa9@\\xce\\xb9\\xd7\\xd1\\x15:\\x99\\xf05\\x0b\\xdb\\x19y\\xdc\\x8fI2\\xae\\x029\\r\\xd3\\xeduP\\x8cT\\xa2u\\x91\\x8a#5\\x8e\\xa9$\\xe6\\xfcX\\x19\\x86\\xbc\\xd9\\x0f\"s\\xb7\\x0b\\n\\t|\\x81\\xfc1\\xf6H\\x7f\\xd8\\x98\\x82\\xb2\\x04\\x92\\xf5B\\xa8FR\\xcb\\xcbMQ\\x97\\x98\\x80\\x0c\\xa0\\xb4\\xbbB\\xceF\\xdb\\x97\\x1b%\\xc0\\x1f\\x88%\\x9e\\xd5\\xa2\\xd0\\xc50\\xc2\\xb3\\xe5ya\\x96\\x88\\x8f\\xf61\\xf6\\x14\\xd2w?\\x14\\x1b\\x0b\\x91\\x00I\\x9b\\xb7I\\x0c\\x81\\x94!\\xdf\\xc7\\x15(\\xe0Zk\\xf9[A\\xe1Y:\\xfdQ\\x8c\\xd0O\\x96F\\xb1\\xb6\\xd7L\\x85N\\xc8m\\x92QG\\xc8\\x1b\\xd0^\\xfa\\x12r\\xa2\\xbd\\x81\\xb6\\x845h\\xfb;\\xd58\\xd1nH\\xb2}O8\\x9c~\\xa92\\x8d\\xe2\\xec\\x15\\x96\\x0b\\xa6\\xe1\\xdd\\xc9\\xc7\\x17e(\\x1d\\xe36$\\xa1N\\xc6;o}/\\x942rZ\\xa6\\'\\xce3\\xa5\\xc4\\xc7\\xf1\"\\x9ci\\x88\\x82\\xe9^\\x99\\xc29%\\x14\\xb99\\x11Yg\\x1cr\\xec\\x16R#\\x95\\x88\\x90S\\x82,\\xe8bk\\x1e\\x13\\x110\\xfd\\x91S\\xbc\\xae\\xdc1.\"O\\xccE!\\xbd\\x88\\x88\\xac\\xd1\\x03y\\x07\\x8a\\xa5\\x13QDH\\x98Ab\\x15QDDFt@\\xfe\\xc9P\\xde#1\\xa2py\\x10\\x9f\\xbaU\\xb15\\xb1\\x8d\\xf0O\\x05\\xcaSo\\x8b\\n\\x8e\\xdb\\xa1>\\x13\\xedP}\\xe4b\\xe2\\xabv\\xba\\xa0\\xb8\\xaf\\xaf\\x8eC\\x85\\x10\\x1c\\x8e\\xc8\\x8c&\\xa8\\x90t_\\xb48\\xf6A5\\x91\\xed\\xd0\\xef\\xbf\\te\\x9f\\xbcky\\\\Fb\\x8b\\xee\\xc7P\\x8a\\xf5T?\\'\\x8d\\x16V\\xf1P\\x86\\x16L\\x0f\\xe3\\xd1\\\\H\\xedP\\xae\\xdcJT\\xed\\xfc\\x81\\xe5o9\\xfe\\xee\\xc5s *\\x81\\xebL\\xf2\\x9e\\x1c@\\xb4\\xb0\\n\\x99\\xddQ\\xd9X/\\xe3\\xb1\\x07\\xda\\xc2\\xbeE\\xd5\\xd7o\\xa2\\xb4\\xf1%\\xa8\\xe9\\xc7\\xf6\\x0c\\xce\\xf5\\x12\\xd2\\xaf\\n1\\xa9 \\xc2\\x83&\\xa8\\x8d\\xd1E(\\xb5{-JM\\xda\\x82\\xba\\xe4\\xdc\\x8cr\\xc4\\xba\\xe0]~\\x95N\\x9b\\xce\\x91(\\xe7*4e]\\x11\\xe9\\xd3\\x14\\x95\\xe2_\\x83\\x94\\xe8mh!\\xadD\\x92c\\x02\\xaa\\xfbK\\xa5b\\xa8\\'\\xa9\\xa7\\xb84@\\xdbe\\xcaE\\xa8\\x91U\\x18\\x0e*Q\\x1b\\xee\\xfe\\xc6_5J\\xa0{\\x1bI\\x8bkQ\\x8f\\xaaLnz9\\x8e\\xd4oxy\\x1e\\xca\\x94u\\xea\\x8e\\x1c\\x11B\\xda\\xa3\\x1a\\x80\\x07\\x88\\xf5[Xm<\\x1f\\x8f,\\xb7l^\\xf4\\x8dP\\xa9\\x7f*\\xa5v\\xfb\"+1\\xd3>\\xff\\x119\\xa4\\x11\\xcaJ\\xbd\\x1e\\x15\\xbd\\xee@?\\xf43(\\xdd\\xbb\\x1b\\xb95\\xa4F\\xa0*)\\xbf\\x94\\xa2$M\\xb7\\x86\\xb7I\\x89\\xb6\\xc2\\xdc`f\\xa1\\x0e6\\xfe\\xfa\"\\x93\\xffU$\\x95\\xe6\\xa3fr?\\xe5i>CP;L\\xbfLD\\x957\\xf6fo\\x11\\x01\\xd0\\x1d%\\xbe\\xbd\\x80\\xba#\\x7f\\x85zf\\x8d\\'\\xff\\xbd\\xbf\\xec\\xac\\xc0\\xbdw\\xbc\\x9d\\x03P\\x7f\\xf8f\\xb9\\x9bN\\x84\\x17\\x8dQ3\\xfe\\x1bQ\\xd9\\x98\\xd9\\x88\\xed\\x8fH\\x11O\\xbb\\xce.\\xcb\\xb4GE/~*\\xa6\\x1a\\xa1\\xad\\xda\\xed\\xe6\\xec\\x119\\xa0\\x04y\\xa0\\x7f\\x87\\xb6\\xb2\\xadH\\x12\\xdc\\x8et\\x91\\xb0^\\xe1\\'\\xe1|\\xb3q\\'\\xee\\xc2\\xbd\\x9ddJD:\\x967\\xadP\\x0f\\xd0A\\xc4\\x9a\\xb0\\xd5\\x00\\x7f%\\xfe\\x9e\\x7faf\\x7f\\xfc\\xddY\\xe2\\x1c\\x14\\n\\xf2\\xba%KD\\x06tF\\xfe\\x9b\\x17\\xd1\\x16\\xb2\\x08mo}(\\xcc\\x0bq\\x0e\\xee7q2\\x19\\x82\\xbc\\xf9Q\\x9eU\\x16i\\x80Za\\xdf\\x8c\\xda2\\xadG1\\xb1Q\\x84w{K\\x85O\\xf0\\xbe\\x9bY5r\\xbcf\\xb3\\x97~\\x9d\\xc5\\xb4\\xe0\\x16 \\xa9\\xf4\\x02\\xda\\n\\x82\\xb6\\xder\\xc1F\\xdc{\\x7f\\x1d\\x8c\\xac\\xd7\\xa0\\xee\\xc6V\\xf0\\x94!Km*\\nO|\\x8d\\\\\\x01\\xa3q\\xbf\\xd9T\\xb1\\xb0\\x05\\xfd\\xefv\\x0eF\\r\\xe7\\xd2i$W\\xa7i\\x8c\\xee\\x19x\\x1fj\\xa5\\xf4.\\n\\xea\\x1eJa\\xeaJ\\xe9\\xf25p\\xba\\xed\\xd8Dd\\xd5\\xa6\\xdan\\xbb\\xce\\xd2\\n\\xf5\\x12\\x98\\x85\\xbe\\xd0\\xb9\\xa8AI\\xfb\\x00\\xe7\\x144\\xf3\\x90o\\xaa-\\xea\\n\\xf3\\x04\\x8a\\x02L\\x0erR\\x85@W\\x94\\xa7\\xb4\\x08\\xe9\\x0b\\x0f\\xa1\\x9b\\x15\\xa5\\xdd\\x0f\\xb3\\xc8\\xe8\\x89\\xbe\\x17\\xb3\\xbd\\xd4B\\x82m&\\x1cZ\\xcaPx\\xe2:tO\\x9bU\\xa8\\xd9\\xfe@\\xea\\xd6\\x16\\x97\\nM\\x907=\\x9b7\\xba*\\nZ\"_\\x8c\\xb9\\xc5\\x99V\\\\\\xe4w\\x89H\\x99Jt\\xbb\\xe0\\x1aTI\\xf2\\x1c\\xea\\xcf\\x15\\x95vG\\xa4L\\x15\\x92D\\x0b\\x90\\xff\\xe5\\x01\\xd4D6\\xccMq#BJ\\x1bb\\x8bi\\x1d\\xea\\x1b\\x7f\\x14\\x85\\xd7\\xbf4\"\\x04X\\x17\\xd3Z\\xa4|\\xf7%y+\\xec\\x88\\x88\\x04:\\xa2{\\xe7\\xbc\\x89\\x1a\\xe2F\\x8b)\"m\\x1a\\xa3&\\xb8sP\\xef\\xf7;P\\xaan\\xe4\\x16\\x88H\\x8b>H\\xf1\\xfe\\x08\\xe5.\\r \\x92L\\x11\\x19r.p+\\x8a\\xc9E\\x8b\\xa9\\x8e\\xf2\\x7f\\xeawH}\\xbfd\\x93\\xdc\\x00\\x00\\x00\\x00IEND\\xaeB`\\x82'"
      ]
     },
     "execution_count": 11,
     "metadata": {},
     "output_type": "execute_result"
    }
   ],
   "source": [
    "image_link.content"
   ]
  },
  {
   "cell_type": "code",
   "execution_count": 12,
   "metadata": {},
   "outputs": [],
   "source": [
    "f = open('hawkingsignature.png','wb')"
   ]
  },
  {
   "cell_type": "code",
   "execution_count": 13,
   "metadata": {},
   "outputs": [
    {
     "data": {
      "text/plain": [
       "4159"
      ]
     },
     "execution_count": 13,
     "metadata": {},
     "output_type": "execute_result"
    }
   ],
   "source": [
    "f.write(image_link.content)"
   ]
  },
  {
   "cell_type": "code",
   "execution_count": 14,
   "metadata": {},
   "outputs": [],
   "source": [
    "f.close()"
   ]
  },
  {
   "cell_type": "code",
   "execution_count": null,
   "metadata": {},
   "outputs": [],
   "source": []
  }
 ],
 "metadata": {
  "kernelspec": {
   "display_name": "Python 3.10.5 64-bit",
   "language": "python",
   "name": "python3"
  },
  "language_info": {
   "codemirror_mode": {
    "name": "ipython",
    "version": 3
   },
   "file_extension": ".py",
   "mimetype": "text/x-python",
   "name": "python",
   "nbconvert_exporter": "python",
   "pygments_lexer": "ipython3",
   "version": "3.10.5"
  },
  "orig_nbformat": 4,
  "vscode": {
   "interpreter": {
    "hash": "44a9cdcbdccbf05a880e90d2e6fe72470baab4d1b82472d890be0596ed887a6b"
   }
  }
 },
 "nbformat": 4,
 "nbformat_minor": 2
}
