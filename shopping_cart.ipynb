{
 "cells": [
  {
   "cell_type": "code",
   "execution_count": 1,
   "outputs": [],
   "source": [
    "def shopping_cart():\n",
    "    cart = []\n",
    "    print('Welcome to your personal shopping cart.')\n",
    "    result = input(\"Type in your item\")\n",
    "    cart.append(result)\n",
    "    print(f'{result} has been added to your shopping cart!')\n",
    "    result2 = input('Would you like to view your shopping cart? (y/n)')\n",
    "    if result2 == 'y' and 'Y':\n",
    "        print(cart)\n",
    "    else:\n",
    "        exit()"
   ],
   "metadata": {
    "collapsed": false
   }
  },
  {
   "cell_type": "code",
   "execution_count": 2,
   "outputs": [
    {
     "name": "stdout",
     "output_type": "stream",
     "text": [
      "Welcome to your personal shopping cart.\n",
      "juice has been added to your shopping cart!\n",
      "['juice']\n"
     ]
    }
   ],
   "source": [
    "shopping_cart()"
   ],
   "metadata": {
    "collapsed": false
   }
  },
  {
   "cell_type": "code",
   "execution_count": null,
   "outputs": [],
   "source": [],
   "metadata": {
    "collapsed": false
   }
  }
 ],
 "metadata": {
  "kernelspec": {
   "display_name": "Python 3",
   "language": "python",
   "name": "python3"
  },
  "language_info": {
   "codemirror_mode": {
    "name": "ipython",
    "version": 2
   },
   "file_extension": ".py",
   "mimetype": "text/x-python",
   "name": "python",
   "nbconvert_exporter": "python",
   "pygments_lexer": "ipython2",
   "version": "2.7.6"
  }
 },
 "nbformat": 4,
 "nbformat_minor": 0
}
