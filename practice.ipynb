{
 "cells": [
  {
   "cell_type": "code",
   "execution_count": 1,
   "outputs": [],
   "source": [
    "mylist = ['Jack', 'Lily', 'Noah', \"Nick\", 'Ruby', 'Lucas', 'Emma']"
   ],
   "metadata": {
    "collapsed": false,
    "pycharm": {
     "name": "#%%\n"
    }
   }
  },
  {
   "cell_type": "code",
   "execution_count": 2,
   "outputs": [
    {
     "name": "stdout",
     "output_type": "stream",
     "text": [
      "Jack\n",
      "Lily\n",
      "Noah\n",
      "Nick\n",
      "Ruby\n",
      "Lucas\n",
      "Emma\n"
     ]
    }
   ],
   "source": [
    "for x in mylist:\n",
    "    print(x)"
   ],
   "metadata": {
    "collapsed": false,
    "pycharm": {
     "name": "#%%\n"
    }
   }
  },
  {
   "cell_type": "code",
   "execution_count": 19,
   "outputs": [],
   "source": [
    "oneToTen = [1,2,3,4,5,6,7,8,9,10]"
   ],
   "metadata": {
    "collapsed": false,
    "pycharm": {
     "name": "#%%\n"
    }
   }
  },
  {
   "cell_type": "code",
   "execution_count": 14,
   "outputs": [
    {
     "name": "stdout",
     "output_type": "stream",
     "text": [
      "Num is odd: 1\n",
      "Num is even: 2\n",
      "Num is odd: 3\n",
      "Num is even: 4\n",
      "Num is odd: 5\n",
      "Num is even: 6\n",
      "Num is odd: 7\n",
      "Num is even: 8\n",
      "Num is odd: 9\n",
      "Num is even: 10\n"
     ]
    }
   ],
   "source": [
    "for x in oneToTen:\n",
    "    if x % 2 == 0:\n",
    "        print(f'Num is even: {x}')\n",
    "    else:\n",
    "        print(f'Num is odd: {x}')"
   ],
   "metadata": {
    "collapsed": false,
    "pycharm": {
     "name": "#%%\n"
    }
   }
  },
  {
   "cell_type": "code",
   "execution_count": 27,
   "outputs": [],
   "source": [
    "oneToHundred = [x for x in range(1,101)]"
   ],
   "metadata": {
    "collapsed": false,
    "pycharm": {
     "name": "#%%\n"
    }
   }
  },
  {
   "cell_type": "code",
   "execution_count": 28,
   "outputs": [
    {
     "name": "stdout",
     "output_type": "stream",
     "text": [
      "Num is odd: 1\n",
      "Num is even: 2\n",
      "Num is odd: 3\n",
      "Num is even: 4\n",
      "Num is odd: 5\n",
      "Num is even: 6\n",
      "Num is odd: 7\n",
      "Num is even: 8\n",
      "Num is odd: 9\n",
      "Num is even: 10\n",
      "Num is odd: 11\n",
      "Num is even: 12\n",
      "Num is odd: 13\n",
      "Num is even: 14\n",
      "Num is odd: 15\n",
      "Num is even: 16\n",
      "Num is odd: 17\n",
      "Num is even: 18\n",
      "Num is odd: 19\n",
      "Num is even: 20\n",
      "Num is odd: 21\n",
      "Num is even: 22\n",
      "Num is odd: 23\n",
      "Num is even: 24\n",
      "Num is odd: 25\n",
      "Num is even: 26\n",
      "Num is odd: 27\n",
      "Num is even: 28\n",
      "Num is odd: 29\n",
      "Num is even: 30\n",
      "Num is odd: 31\n",
      "Num is even: 32\n",
      "Num is odd: 33\n",
      "Num is even: 34\n",
      "Num is odd: 35\n",
      "Num is even: 36\n",
      "Num is odd: 37\n",
      "Num is even: 38\n",
      "Num is odd: 39\n",
      "Num is even: 40\n",
      "Num is odd: 41\n",
      "Num is even: 42\n",
      "Num is odd: 43\n",
      "Num is even: 44\n",
      "Num is odd: 45\n",
      "Num is even: 46\n",
      "Num is odd: 47\n",
      "Num is even: 48\n",
      "Num is odd: 49\n",
      "Num is even: 50\n",
      "Num is odd: 51\n",
      "Num is even: 52\n",
      "Num is odd: 53\n",
      "Num is even: 54\n",
      "Num is odd: 55\n",
      "Num is even: 56\n",
      "Num is odd: 57\n",
      "Num is even: 58\n",
      "Num is odd: 59\n",
      "Num is even: 60\n",
      "Num is odd: 61\n",
      "Num is even: 62\n",
      "Num is odd: 63\n",
      "Num is even: 64\n",
      "Num is odd: 65\n",
      "Num is even: 66\n",
      "Num is odd: 67\n",
      "Num is even: 68\n",
      "Num is odd: 69\n",
      "Num is even: 70\n",
      "Num is odd: 71\n",
      "Num is even: 72\n",
      "Num is odd: 73\n",
      "Num is even: 74\n",
      "Num is odd: 75\n",
      "Num is even: 76\n",
      "Num is odd: 77\n",
      "Num is even: 78\n",
      "Num is odd: 79\n",
      "Num is even: 80\n",
      "Num is odd: 81\n",
      "Num is even: 82\n",
      "Num is odd: 83\n",
      "Num is even: 84\n",
      "Num is odd: 85\n",
      "Num is even: 86\n",
      "Num is odd: 87\n",
      "Num is even: 88\n",
      "Num is odd: 89\n",
      "Num is even: 90\n",
      "Num is odd: 91\n",
      "Num is even: 92\n",
      "Num is odd: 93\n",
      "Num is even: 94\n",
      "Num is odd: 95\n",
      "Num is even: 96\n",
      "Num is odd: 97\n",
      "Num is even: 98\n",
      "Num is odd: 99\n",
      "Num is even: 100\n"
     ]
    }
   ],
   "source": [
    "for x in oneToHundred:\n",
    "    if x % 2 == 0:\n",
    "        print(f'Num is even: {x}')\n",
    "    else:\n",
    "        print(f'Num is odd: {x}')"
   ],
   "metadata": {
    "collapsed": false,
    "pycharm": {
     "name": "#%%\n"
    }
   }
  },
  {
   "cell_type": "code",
   "execution_count": 144,
   "outputs": [
    {
     "name": "stdout",
     "output_type": "stream",
     "text": [
      "Numbers don't match = 10 and 7\n"
     ]
    }
   ],
   "source": [
    "import random\n",
    "\n",
    "x = random.randint(1,10)\n",
    "y = random.randint(1,10)\n",
    "\n",
    "if x == y:\n",
    "    print(f'Numbers Match! = {x} and {x}')\n",
    "else:\n",
    "    print(f\"Numbers don't match = {x} and {y}\")"
   ],
   "metadata": {
    "collapsed": false,
    "pycharm": {
     "name": "#%%\n"
    }
   }
  },
  {
   "cell_type": "code",
   "execution_count": null,
   "outputs": [],
   "source": [],
   "metadata": {
    "collapsed": false,
    "pycharm": {
     "name": "#%%\n"
    }
   }
  }
 ],
 "metadata": {
  "kernelspec": {
   "display_name": "Python 3",
   "language": "python",
   "name": "python3"
  },
  "language_info": {
   "codemirror_mode": {
    "name": "ipython",
    "version": 2
   },
   "file_extension": ".py",
   "mimetype": "text/x-python",
   "name": "python",
   "nbconvert_exporter": "python",
   "pygments_lexer": "ipython2",
   "version": "2.7.6"
  }
 },
 "nbformat": 4,
 "nbformat_minor": 0
}